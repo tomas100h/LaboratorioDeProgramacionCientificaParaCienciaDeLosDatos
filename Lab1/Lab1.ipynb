{
  "nbformat": 4,
  "nbformat_minor": 0,
  "metadata": {
    "colab": {
      "provenance": []
    },
    "kernelspec": {
      "name": "python3",
      "display_name": "Python 3"
    },
    "language_info": {
      "name": "python"
    }
  },
  "cells": [
    {
      "cell_type": "markdown",
      "source": [
        "<h1><center>Laboratorio 1: Git 👾</center></h1>\n",
        "\n",
        "<center><strong>MDS7202: Laboratorio de Programación Científica para Ciencia de Datos - Otoño 2023</strong></center>"
      ],
      "metadata": {
        "id": "J4_IcuuKZj9Y"
      }
    },
    {
      "cell_type": "markdown",
      "source": [
        "### Cuerpo Docente:\n",
        "\n",
        "- Profesores: Pablo Badilla, Ignacio Meza D.\n",
        "- Auxiliar: Sebastián Tinoco\n",
        "- Ayudante: Diego Cortez"
      ],
      "metadata": {
        "id": "AEXIACc7aADv"
      }
    },
    {
      "cell_type": "markdown",
      "source": [
        "### Equipo: SUPER IMPORTANTE - notebooks sin nombre no serán revisados\n",
        "\n",
        "- Nombre de alumno 1: Tomás Ceballos\n",
        "- Nombre de alumno 2: Pablo Angel"
      ],
      "metadata": {
        "id": "0HgMMyoCaG8X"
      }
    },
    {
      "cell_type": "markdown",
      "source": [
        "### **Link de repositorio de GitHub:** `...`"
      ],
      "metadata": {
        "id": "fz77X6glaK6y"
      }
    },
    {
      "cell_type": "markdown",
      "source": [
        "### **Link meme:** `https://www.reddit.com/r/ProgrammerHumor/comments/120lt2h/hey_im_new_to_git_anyone_know_how_to_solve_this/?utm_source=share&utm_medium=web2x&context=3`"
      ],
      "metadata": {
        "id": "7slxqCVPZz--"
      }
    },
    {
      "cell_type": "markdown",
      "source": [
        "## Reglas:\n",
        "\n",
        "- Fecha de entrega: 6 días desde la publicación, 3 días de atraso con 1 punto de descuento c/u. Pueden utilizar días bonus sin descuento.\n",
        "- **Grupos de 2 personas**.\n",
        "- **Ausentes** deberán realizar la actividad solos. \n",
        "- Cualquier duda fuera del horario de clases al foro. Mensajes al equipo docente serán respondidos por este medio.\n",
        "- <u>Prohibidas las copias</u>. Cualquier intento de copia será debidamente penalizado con el reglamento de la escuela.\n",
        "- Pueden usar cualquer material del curso que estimen conveniente.\n",
        "- Asistencia obligatoria a instrucciones del lab (viernes 16.15). Luego, pueden quedarse trabajando en las salas o irse."
      ],
      "metadata": {
        "id": "rRwqaxIZaNx3"
      }
    },
    {
      "cell_type": "markdown",
      "source": [
        "## Objetivos del lab:\n",
        "\n",
        "\n",
        "- Conocer los elementos básicos que conformar `Git`\n",
        "- Clonar repositorios\n",
        "- Identificar ramas de un repositorio\n",
        "- Reconocer y solucionar problemas entre ramas\n",
        "- Subir cambios a un repositorio"
      ],
      "metadata": {
        "id": "bmToL27JaSrf"
      }
    },
    {
      "cell_type": "markdown",
      "source": [
        "## Parte 1: Conocimiento Teórico (2 pts)"
      ],
      "metadata": {
        "id": "bvnPCvrVbJLK"
      }
    },
    {
      "cell_type": "markdown",
      "source": [
        "Responda las siguientes preguntas (0.2 pts c/u):\n",
        "\n",
        "1. ¿Qué es `Git` y cómo se relaciona con el control de versiones?\n",
        "\n",
        "2. Nombre y explique 3 diferencias entre `Git` y `Github`.\n",
        "\n",
        "3. ¿Qué es un `hash` y cómo se representa en un `commit`? De un ejemplo.\n",
        "\n",
        "4. ¿Que elementos componen a la estructura de datos de `Git`?\n",
        "\n",
        "5. ¿Que comandos de `Git` sirven para crear un repositorio y hacer seguimiento a cambios en los archivos?"
      ],
      "metadata": {
        "id": "JHl-24XnbNLF"
      }
    },
    {
      "cell_type": "markdown",
      "source": [
        "<code>Escriba sus respuestas acá:</code>\n",
        "\n",
        "1. Git es un software que se utiliza en la línea de comandos para tener un control de versiones, más en específico uno distribuido. El DVCS es un control de versiones donde cada persona puede acceder a la totalidad del repositorio, incluyendo versiones anteriores, y clonarlo en su máquina para poder trabajar de forma conjunta.\n",
        "\n",
        "2. Git es un sistema de control de versiones distribuido, mientras que Github un servicio de alojamiento basado en web. También se tiene que Git crea un repositorio local para trackear los cambios locales, mientras que Github es un espacio para subir una copia de los repositorios de Git. Por último, Git es un software, mientras que Github entrega una interfaz grafica.\n",
        "\n",
        "3. Hash es una función que se le entrega un input y entrega un output único a ese input; en el caso de Git se utiliza el hash SHA1. Cada elemento posee un hash único creado con los metadatos de este elemento que nos sirven para referenciar a un elemento de interés, por ejemplo un commit. Un ejemplo es el commit 5eba8ab3b718a6ab6610186be934ba214e228a58, donde se puede ver que este hash está compuesto por 40 caracteres, y para poder ver este commit se utiliza el comando `git show 5eba8ab3b718a6ab6610186be934ba214e228a58`, o en su defecto `git show 5eba8ab`, que también funciona.\n",
        "\n",
        "4. Los elementos que componen la estructura de datos de Git son los commits (representación de una versión o un estado), árboles (estructura de archivos y directorios de un commit), blobs (el contenido de un archivo en particular), y hash (puntero a cada elemento anteriormente mencionado).\n",
        "\n",
        "5. El comando para crear un repositorio es `git init`, mientras que el comando para hacer seguimiento a los cambios en los archivos es `git status`\n",
        "\n",
        "\n"
      ],
      "metadata": {
        "id": "2tXCSkf0caG8"
      }
    },
    {
      "cell_type": "markdown",
      "source": [
        "Responda si las siguientes afirmaciones son Verdaderas (V) o Falsas (F). Justifique en **cualquiera** de los casos (0.2 pts c/u):\n",
        "\n",
        "\n",
        "6. `Git` siempre resuelve automáticamente los problemas de lineas al hacer merge entre diferentes ramas.\n",
        "7. Ejecutar `git pull` sobre un repositorio es equivalente a ejecutar `git clone`.\n",
        "8. Cada miembro del equipo trabaja en la misma copia del código fuente usando `Git`.\n",
        "9. En `Git` es posible deshacer cambios y volver a versiones anteriores del código.\n",
        "10. El comando `git commit` se utiliza para enviar cambios al repositorio remoto."
      ],
      "metadata": {
        "id": "MACccbP4gU43"
      }
    },
    {
      "cell_type": "markdown",
      "source": [
        "<code>Escriba sus respuestas acá:</code>\n",
        "\n",
        "6. FALSO: Git no siempre resuelve automáticamente los problemas de línea al hacer merge entre diferentes ramas. En algunos casos, Git puede mostrar conflictos de merge que deben ser resueltos manualmente por el usuario.\n",
        "\n",
        "7. FALSO: `git pull` y `git clone` son dos comandos diferentes en Git. `git clone` se utiliza para descargar un repositorio remoto completo en un nuevo directorio, mientras que `git pull` se utiliza para fusionar los cambios del repositorio remoto en el directorio de trabajo local.\n",
        "\n",
        "8. FALSO: En Git, cada miembro del equipo trabaja en una copia local del código fuente en su propia máquina. Cada miembro del equipo puede trabajar en diferentes ramas y fusionar cambios cuando sea necesario.\n",
        "\n",
        "9. VERDADERO: En Git, es posible deshacer cambios y volver a versiones anteriores del código utilizando diferentes comandos como `git reset` y `git revert`.\n",
        "\n",
        "10. FALSO: El comando `git commit` se utiliza para confirmar los cambios en el repositorio local. Para enviar los cambios al repositorio remoto, se debe utilizar el comando `git push`."
      ],
      "metadata": {
        "id": "DFnmCToOgeM3"
      }
    },
    {
      "cell_type": "markdown",
      "source": [
        "## Parte 2: Creando una presentación personal (2 pts)"
      ],
      "metadata": {
        "id": "i7Em9JkbbRLo"
      }
    },
    {
      "cell_type": "markdown",
      "source": [
        "Para empezar a \"*soltar las manos*\" con `Git`, se les encomienda crear un repositorio con una presentación personal. El repositorio debe contener un breve resumen de quienes son ustedes, sus gustos, experiencias, y cualquier otro detalle interesante que ustedes consideren relevante. \n",
        "\n",
        "Para realizar esto, deben seguir los siguientes pasos:\n",
        "\n",
        "1. Contar con una cuenta de github (1 por persona)\n",
        "2. Crear un repositorio con su nombre de usuario\n",
        "3. Crear y modificar un archivo `readme.md` con la información que ustedes deseen compartir.\n",
        "\n",
        "A modo de ejemplo, pueden guiarse por esta *suculenta* [presentación](https://github.com/pbadillatorrealba/pbadillatorrealba).\n",
        "\n",
        "*Hint: Una buena opción es usar templates de presentación personal que encuentren en Google, como los que ofrece este [sitio](https://durgeshsamariya.github.io/awesome-github-profile-readme-templates/#/)*.\n",
        "\n",
        "**Entregable:**\n",
        "\n",
        "Enlace al repositorio con la presentación personal. \n",
        "\n",
        "IMPORTANTE: DEBEN ADJUNTAR UN ENLACE POR PERSONA"
      ],
      "metadata": {
        "id": "XWIHfyrlbYOJ"
      }
    },
    {
      "cell_type": "markdown",
      "source": [
        "<code>Link Presentacion 1:</code> https://github.com/tomas100h/tomas100h\n",
        "\n",
        "<code>Link Presentacion 2:</code> https://github.com/Snackyyy/Snackyyy"
      ],
      "metadata": {
        "id": "IIkWyl9tf0Sg"
      }
    },
    {
      "cell_type": "markdown",
      "source": [
        "## Parte 3: Trabajando sobre un repositorio externo (2 pts)"
      ],
      "metadata": {
        "id": "CAzXOwvDY-IG"
      }
    },
    {
      "cell_type": "markdown",
      "source": [
        "Tras muchos dolores de cabeza, un grupo de entusiastas académicos decidieron aprender sobre `Git` y así trabajar colaborativamente de forma más ordenada y eficiente. Después de una infinidad de intentos y aprender de sus errores \"*a la mala*\", los académicos lograron levantar un [repositorio](https://github.com/MDS7202/lab1) en `Github`. Usando el repositorio de los académicos, responda las siguientes preguntas (incluya también los comandos en `Git` ocupados):"
      ],
      "metadata": {
        "id": "84Yjuxxvdfzh"
      }
    },
    {
      "cell_type": "markdown",
      "source": [
        "1. Clone el repositorio a su ambiente local. (0.25 pts)"
      ],
      "metadata": {
        "id": "BFRnAw0rfguR"
      }
    },
    {
      "cell_type": "markdown",
      "source": [
        "<code>Escriba sus respuestas acá:</code>\n",
        "***\n",
        "\n",
        "git clone https://github.com/MDS7202/lab1.git\n",
        "***"
      ],
      "metadata": {
        "id": "KXro32yBeilN"
      }
    },
    {
      "cell_type": "markdown",
      "source": [
        "2. Inspeccione brevemente el repositorio: ¿Cual es el objetivo del proyecto? Explique brevemente la estructura del proyecto, asi como también de cada componente que lo conforma. (0.25 pts)"
      ],
      "metadata": {
        "id": "q2qmiDyjt2M_"
      }
    },
    {
      "cell_type": "markdown",
      "source": [
        "<code>Escriba sus respuestas acá:</code>\n",
        "\n",
        "***\n",
        "Los componentes por si solos hacen los siguiente:\n",
        "- Readme: Contiene el uso del proyecto, junto a una imagen de animalitos para el contexto.\n",
        "- animales.py: Define una función cuyo parámetro es un input de usuario en forma de string. Su output es el sonido que hace el animal imputado anteriormente.\n",
        "- main.py: Importa la función definida en animales.py y luego la llama sobre su \"main\". Aqui se interactua con los modulos definidos en el programa. \n",
        "Como se explicó anteriormente, la estructura del proyecto gira en torno a un main donde se puede interactuar con los demás componentes. \n",
        "***"
      ],
      "metadata": {
        "id": "aBHpR8VTftkT"
      }
    },
    {
      "cell_type": "markdown",
      "source": [
        "3. Identifique los últimos cambios al repositorio, reconociendo las principales ramas de trabajo. ¿Son informativos los `commit` realizados? (0.25 pts)\n",
        "*Hint: Se recomienda usar los argumentos `all`, `graph` y `decorate`*"
      ],
      "metadata": {
        "id": "XFwqcpLZfylf"
      }
    },
    {
      "cell_type": "markdown",
      "source": [
        "<code>Escriba sus respuestas acá:</code>\n",
        "***\n",
        "Se usa el comando: \n",
        "git log --all --graph --decorate\n",
        "\n",
        "Se explicará cada commit de manera secuencial:\n",
        "\n",
        "- 1. primer commit: El primer commit sube el proyecto al repositorio, con un nombre bastante autoexplicativo\n",
        "- 2. se agrega funcion: Se agrega la función de animales al main. Pese a lo anterior, no se explica qué función se agrega exactamente (se asume que es animales)\n",
        "- 3. Se separa el proyecto en modulos: Como dice el nombre, se separa el proyecto en modulos. Este commit se crea en una nueva rama. \n",
        "- 4. fix ifs: En este commit (de nombre un poco criptico a primera vista) se arreglan los casos ifs dentro de la función animales. (Esta rama llamada fix-ifs nunca se sube al main)\n",
        "\n",
        "Cabe destacar que no hay consistencia en los commits ya que por ejemplo tienen distintos idiomas.\n",
        "***"
      ],
      "metadata": {
        "id": "cmWfXBkOhog0"
      }
    },
    {
      "cell_type": "markdown",
      "source": [
        "4. Uno de los académicos se da cuenta que la rama principal de trabajo no se ejecuta correctamente para todos los argumentos. Señale el error en el código e identifique a la persona que lo cometió usando `git blame` (0.25 pts)\n",
        "\n",
        "*Hint: Le puede ser útil esta [documentación](https://www.atlassian.com/es/git/tutorials/inspecting-a-repository/git-blame).*"
      ],
      "metadata": {
        "id": "Vqbj9HdXrUnN"
      }
    },
    {
      "cell_type": "markdown",
      "source": [
        "<code>Escriba sus respuestas acá:</code>\n",
        "***\n",
        "Usando `git blame animales.py` uno se puede dar cuenta que el codigo def animales(input) esta mal, ya que todos los if debajo del primer if deberian estar anidados, por lo que deben ser cambiados por elif (anteriormente siempre que no fuera fox, el programa tiraba error por el else). Revisando el archivo animales.py, no se puede apreciar quien hizo la funcion mal, ya que se copió y pegó el codigo de main, sin embargo, utilizando `git blame -M animales.py`, se ve que el que copio y pego el codigo mal hecho fue mezosky. Finalmente, si uno revisa los commits anteriores y con `git blame -C animales.py`, se puede notar que quien hizo mal la funcion fue seba. \n",
        "***"
      ],
      "metadata": {
        "id": "5ajhV2Iar3tV"
      }
    },
    {
      "cell_type": "markdown",
      "source": [
        "5. Busque los siguientes `commit`:\n",
        "\n",
        "- `c8b1a62d7299552b0654f930d695b33109214111`\n",
        "- `362fe21ee44f53ee944cee4ba484600308f83d78`\n",
        "- `25543a3baf77292baf849726784ca005473acab1`\n",
        "\n",
        "¿Qué diferencias existen entre cada uno? (0.25 pts)"
      ],
      "metadata": {
        "id": "m8J3uE7MhqTA"
      }
    },
    {
      "cell_type": "markdown",
      "source": [
        "<code>Escriba sus respuestas acá:</code>\n",
        "***\n",
        "**git show c8b1a62d7299552b0654f930d695b33109214111 (hecho por seba):**\n",
        "\n",
        "- Aqui se agrega la función animales en el main. \n",
        "\n",
        "\n",
        "**git show 362fe21ee44f53ee944cee4ba484600308f83d78 (hecho por mezosky):**\n",
        "\n",
        "- Aqui se separa el proyecto en modulos sobre la rama new_features. Se borra la funcion animales del main, y se escribe en su propio archivo animales.py (cabe destacar que tambien se hace el import en el main).\n",
        "\n",
        "\n",
        "**git show 25543a3baf77292baf849726784ca005473acab1 (hecho por Pablo Badilla):**\n",
        "- En una rama llamada fix-ifs se arregla el bug mencionado en la pregunta 4. \n",
        "\n",
        "Se puede ver que las diferencias entre estos commits son las acciones evidenciadas arriba que se realizaron en cada uno.\n",
        "\n",
        "\n",
        "***"
      ],
      "metadata": {
        "id": "sNHnZsgIitGh"
      }
    },
    {
      "cell_type": "markdown",
      "source": [
        "6. Realice una `merge` de la rama `fix-ifs` con la rama `main` y describa lo que ocurre. ¿Qué parte del código podría estar ocasionando esto? (0.25 pts)"
      ],
      "metadata": {
        "id": "WQIPbfNCgpxC"
      }
    },
    {
      "cell_type": "markdown",
      "source": [
        "<code>Escriba sus respuestas acá:</code>\n",
        "***\n",
        "Se usa el comando git merge origin/fix-ifs pero da un conflicto ya que el codigo hecho en la rama fix-ifs todavia no tiene hecha la separacion de archivos, y su funcion estaba definida en el main. \n",
        "***"
      ],
      "metadata": {
        "id": "ypH_6lL5ioZz"
      }
    },
    {
      "cell_type": "markdown",
      "source": [
        "7. Cree una rama nueva y proponga una solución al problema anterior, adjuntando el código corregido y señalando las líneas modificadas. (0.5 pts)"
      ],
      "metadata": {
        "id": "GYfODCjeivkU"
      }
    },
    {
      "cell_type": "markdown",
      "source": [
        "<code>Escriba sus respuestas acá:</code>\n",
        "***\n",
        "Para crear la rama nueva, se uso `git checkout -b solution main`, despues se movio el puntero a la rama solution. Aqui, se cambiaron los ifs anidados por elifs. Despues, en la rama main se hizo el `git merge solution`. \n",
        "***\n",
        "\n",
        "\n",
        "\n",
        "\n",
        "```\n",
        "def animales(input):\n",
        "    \n",
        "    '''\n",
        "    Como hace el animalito?\n",
        "    '''\n",
        "    \n",
        "    if input.lower() == 'gato':\n",
        "        print('miau')\n",
        "    elif input.lower() == 'perro': # Aqui se puso un elif\n",
        "        print('guau')\n",
        "    elif input.lower() == 'fox': # Aqui se puso un elif\n",
        "        print('https://www.youtube.com/watch?v=jofNR_WkoCE')\n",
        "    else:\n",
        "        raise ValueError('animal no reconocido :(')\n",
        "```"
      ],
      "metadata": {
        "id": "8heBxDU9iziT"
      }
    },
    {
      "cell_type": "markdown",
      "source": [
        "## Fin"
      ],
      "metadata": {
        "id": "Av8ebB9jkALO"
      }
    },
    {
      "cell_type": "markdown",
      "source": [
        "Eso ha sido todo por ahora!! Esperamos que este laboratorio les haya gustado y servido para trabajar con `Git`. Recuerden los dias de plazo que tienen disponibles y que ante cualquier duda no duden en contactar al equipo docente. \n",
        "\n",
        "Nos vemos!! \n",
        "\n",
        "<img src=https://media.tenor.com/OYLdav9k9LkAAAAd/kitty-cat.gif height=300>\n"
      ],
      "metadata": {
        "id": "aQqZT9fSkBK8"
      }
    }
  ]
}