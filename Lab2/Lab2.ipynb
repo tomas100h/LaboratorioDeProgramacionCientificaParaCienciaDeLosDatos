{
  "cells": [
    {
      "cell_type": "markdown",
      "source": [
        "<h1><center>Laboratorio 2: Primeros pasos 👣</center></h1>\n",
        "\n",
        "<center><strong>MDS7202: Laboratorio de Programación Científica para Ciencia de Datos - Otoño 2023</strong></center>"
      ],
      "metadata": {
        "id": "cd7b1b55",
        "cell_id": "567e3e8f1ac2430483c12975f41b3306",
        "deepnote_cell_height": 104.390625,
        "deepnote_cell_type": "markdown"
      }
    },
    {
      "cell_type": "markdown",
      "source": [
        "### Cuerpo Docente:\n",
        "\n",
        "- Profesor: Pablo Badilla y Ignacio Meza \n",
        "- Auxiliar: Sebastián Tinoco\n",
        "- Ayudante: Felipe Arias y Diego Cortez"
      ],
      "metadata": {
        "id": "Vp_vOHK7V97e",
        "cell_id": "4464ba8e552d41a19d445e7746b72ef6",
        "deepnote_cell_height": 165.1875,
        "deepnote_cell_type": "markdown"
      }
    },
    {
      "cell_type": "markdown",
      "source": [
        "### Equipo: SUPER IMPORTANTE - notebooks sin nombre no serán revisados\n",
        "\n",
        "- Nombre de alumno 1: Tomás Ceballos\n",
        "- Nombre de alumno 2: Pablo Angel\n"
      ],
      "metadata": {
        "id": "4N_5AYgyWKyA",
        "cell_id": "4979683740cb498ab200a981cfafc91c",
        "deepnote_cell_height": 171.796875,
        "deepnote_cell_type": "markdown"
      }
    },
    {
      "cell_type": "markdown",
      "source": [
        "### **Link de repositorio de GitHub:** `https://github.com/tomas100h/LaboratorioDeProgramacionCientificaParaCienciaDeLosDatos`"
      ],
      "metadata": {
        "id": "1rjlaJDEWxd9",
        "cell_id": "1470f393cb414d2094db386ff745702c",
        "deepnote_cell_height": 62,
        "deepnote_cell_type": "markdown"
      }
    },
    {
      "cell_type": "markdown",
      "source": [
        "## Reglas:\n",
        "\n",
        "- Fecha de entrega: 6 días desde la publicación, 3 días de atraso con 1 punto de descuento c/u. Pueden utilizar días bonus sin descuento.\n",
        "- **Grupos de 2 personas**.\n",
        "- Asistencia obligatoria a instrucciones del lab (viernes 16.15). Luego, pueden quedarse trabajando en las salas o irse.\n",
        "- **Ausentes** deberán realizar la actividad solos. \n",
        "- Cualquier duda fuera del horario de clases al foro. Mensajes al equipo docente serán respondidos por este medio.\n",
        "- Prohibidas las copias. \n",
        "- Pueden usar cualquer material del curso que estimen conveniente."
      ],
      "metadata": {
        "id": "9el9ERaKWW3i",
        "cell_id": "e30789b4d0e545569e96fe8c91897281",
        "deepnote_cell_height": 271.796875,
        "deepnote_cell_type": "markdown"
      }
    },
    {
      "cell_type": "markdown",
      "source": [
        "\n",
        "## Objetivos del lab:\n",
        "\n",
        "Poner en práctica los tópicos básicos del lenguaje de programación Python vistos en clases.\n",
        "\n",
        "- Variables, Operadores y Expresiones.\n",
        "- Estructuras de Control (if/else).\n",
        "- Iteraciones.\n",
        "- Listas y Diccionarios.\n",
        "- Funciones\n",
        "- Programación Orientada a Objetos (Encapsulamiento, Polimorfismo y Herencia)"
      ],
      "metadata": {
        "id": "4708b9b7",
        "cell_id": "6cb6045130834122bfa5a6c323983a68",
        "deepnote_cell_height": 249.390625,
        "deepnote_cell_type": "markdown"
      }
    },
    {
      "cell_type": "markdown",
      "source": [
        "## Parte 1: 🍋 Frutas 🍓\n",
        "\n",
        "\n",
        "<div align='center'>\n",
        "<img src='https://upload.wikimedia.org/wikipedia/commons/a/a2/Berries_in_Berlin.jpg' width=600/>\n",
        "</div>"
      ],
      "metadata": {
        "id": "d58b089c",
        "cell_id": "9085bd920a594bc2a52a3bfdce32e21f",
        "deepnote_cell_height": 567.09375,
        "deepnote_cell_type": "markdown"
      }
    },
    {
      "cell_type": "markdown",
      "source": [
        "Defina las siguientes frutas como diccionarios a partir de sus características (nombre, color, tipo y si posee o no pepas):\n",
        "\n",
        "| Nombre    | Tipo     | Color    | Pepas |\n",
        "|-----------|----------|----------|-------|\n",
        "| limon     | cítrica  | amarillo | True  |\n",
        "| naranja   | cítrica  | naranjo  | True  |\n",
        "| plátano   | tropical | amarillo | False |\n",
        "| piña      | tropical | amarillo | False |\n",
        "| frutilla  | bosque   | rojo     | True |\n",
        "| frambuesa | bosque   | rojo     | True |"
      ],
      "metadata": {
        "id": "5fdf6b19",
        "cell_id": "f6bb1ca25b6c4e159a32bf0b9630447d",
        "deepnote_cell_height": 259.59375,
        "deepnote_cell_type": "markdown"
      }
    },
    {
      "cell_type": "markdown",
      "source": [
        "### [0.5] Estructurar Datos \n",
        "\n",
        "Agregue Piña, Frutilla y Frambuesa como diccionarios (siga los ejemplos de las frutas dadas) y luego cree una lista que contenga estas frutas.\n"
      ],
      "metadata": {
        "id": "33aed47b",
        "cell_id": "4566ac14c4fc4a9c9dec81e5def40a60",
        "deepnote_cell_height": 122.796875,
        "deepnote_cell_type": "markdown"
      }
    },
    {
      "cell_type": "code",
      "source": [
        "limon = {\n",
        "    \"nombre\": \"limón\", \n",
        "    \"tipo\": \"cítrica\", \n",
        "    \"color\": \"amarillo\", \n",
        "    \"pepas\": True\n",
        "    }\n",
        "\n",
        "naranja = {\"nombre\": \"naranja\", \n",
        "           \"tipo\": \"cítrica\", \n",
        "           \"color\": \"naranjo\", \n",
        "           \"pepas\": True\n",
        "          }\n",
        "\n",
        "platano = {\"nombre\": \"plátano\", \n",
        "           \"tipo\": \"tropical\", \n",
        "           \"color\": \"amarillo\", \n",
        "           \"pepas\": False\n",
        "          }\n",
        "          \n",
        "# agregar las frutas que faltan aquí\n",
        "\n",
        "piña = {\"nombre\": \"piña\", \n",
        "        \"tipo\": \"tropical\", \n",
        "        \"color\": \"amarillo\", \n",
        "        \"pepas\": False\n",
        "        }\n",
        "\n",
        "frutilla = {\"nombre\": \"frutilla\", \n",
        "            \"tipo\": \"bosque\", \n",
        "            \"color\": \"rojo\", \n",
        "            \"pepas\": True\n",
        "            }\n",
        "\n",
        "frambuesa = {\"nombre\": \"frambuesa\", \n",
        "            \"tipo\": \"bosque\", \n",
        "            \"color\": \"rojo\", \n",
        "            \"pepas\": True\n",
        "            }"
      ],
      "metadata": {
        "id": "26d23e26",
        "cell_id": "85cec9afb1044dfc9e588800f2ec12cf",
        "source_hash": "56db5a38",
        "execution_start": 1648863016482,
        "execution_millis": 22,
        "deepnote_to_be_reexecuted": false,
        "deepnote_cell_type": "code"
      },
      "outputs": [],
      "execution_count": 1
    },
    {
      "cell_type": "markdown",
      "source": [
        "Ahora, agregue todas las frutas a una lista."
      ],
      "metadata": {
        "id": "259ee333",
        "cell_id": "450f0542818f4605b92e4aa94d47ce25",
        "deepnote_cell_height": 52.390625,
        "deepnote_cell_type": "markdown"
      }
    },
    {
      "cell_type": "code",
      "source": [
        "# Ojo: agregue los datos en el mismo orden que aparecen en la tabla\n",
        "datos = [limon, naranja, platano, piña, frutilla, frambuesa]"
      ],
      "metadata": {
        "id": "fcf62186",
        "cell_id": "fcf275e66bb44531b98ec3f19a7da467",
        "source_hash": "78d4e62",
        "execution_start": 1648863016524,
        "execution_millis": 29,
        "deepnote_to_be_reexecuted": false,
        "deepnote_cell_type": "code"
      },
      "outputs": [],
      "execution_count": 2
    },
    {
      "cell_type": "markdown",
      "source": [
        "Esta lista será la información con la que se trabajará durante el lab."
      ],
      "metadata": {
        "id": "2ed7730e",
        "cell_id": "6368768f93684ef3a2684d4dbcfdb6df",
        "deepnote_cell_height": 52.390625,
        "deepnote_cell_type": "markdown"
      }
    },
    {
      "cell_type": "markdown",
      "source": [
        "### Funciones Aplicadas a los Datos [2.5 puntos]\n",
        "\n",
        "En esta sección se les pide generar una serie de funciones que cumplan diferentes propósitos. Un aspecto clave de la programación funcional es la apropiada **documentación** de lo que ustedes generen. Si bien existen diferentes formas de documentar código, una de las mas usadas es el formato docstring de `numpy`:\n",
        "\n",
        "```python\n",
        "# manual para describir:\n",
        "# https://numpydoc.readthedocs.io/en/latest/format.html\n",
        "\n",
        "# plantilla (agregar todos los argumentos que sean necesarios)\n",
        "# pensar _type_ como los tipos básicos que hemos visto hasta ahora: int, float, string, list, dict, tuple, set, etc...\n",
        "\n",
        "def funcion_generica(arg1, arg2):\n",
        "    \"\"\"_summary_\n",
        "\n",
        "    Parameters\n",
        "    ----------\n",
        "    arg1 : _type_\n",
        "        _description_\n",
        "    arg2 : _type_\n",
        "        _description_\n",
        "\n",
        "    Returns\n",
        "    -------\n",
        "    _type_\n",
        "        _description_\n",
        "    \"\"\"\n",
        "    return ...\n",
        "```\n"
      ],
      "metadata": {
        "id": "e9b1e46d",
        "cell_id": "27cab0ecd65b4b5db1687a40be370a1c",
        "deepnote_cell_height": 62,
        "deepnote_cell_type": "markdown"
      }
    },
    {
      "cell_type": "markdown",
      "source": [
        "Considerando esto y **sin olvidar la documentación**, se les pide generar las siguientes funciones:\n",
        "\n",
        "**1. La función `generar_descripcion(fruta)` que reciba una fruta genere una descripción de la fruta de la siguiente manera:**\n",
        "\n",
        "```{El/La} {...} es una fruta de tipo {...} de color {...}. {Presenta/No presenta} pepas en su interior.```\n",
        "    \n",
        "Por ejemplo, `generar_descripcion(plátano)` debe generar el siguiente string:\n",
        "    \n",
        "```\n",
        "'El plátano es una fruta de tipo tropical de color amarillo. No presenta pepas en su interior.'\n",
        "```\n",
        "    \n",
        "Indicaciones: \n",
        "- Usen formateo o suma de strings, if, else y for.\n",
        "- Para saber si ocupar 'El' o 'La', pueden acceder al nombre de la fruta y ver cual es el último carácter a través de indexadores `string[indice]`.\n",
        "- Utilice los siguientes test para corroborar el funcionamiento de su código:\n",
        "\n",
        "```python\n",
        "assert describir(limon) == \"El limón es una fruta de tipo cítrica de color amarillo. Presenta pepas en su interior.\"\n",
        "assert describir(naranja) == \"La naranja es una fruta de tipo cítrica de color naranjo. Presenta pepas en su interior.\"\n",
        "assert describir(platano) == \"El plátano es una fruta de tipo tropical de color amarillo. No presenta pepas en su interior.\"\n",
        "assert describir(piña) == \"La piña es una fruta de tipo tropical de color amarillo. No presenta pepas en su interior.\"\n",
        "assert describir(frutilla) == \"La frutilla es una fruta de tipo bosque de color rojo. Presenta pepas en su interior.\"\n",
        "assert describir(frambuesa) == \"La frambuesa es una fruta de tipo bosque de color rojo. Presenta pepas en su interior.\"\n",
        "```"
      ],
      "metadata": {
        "cell_id": "521da380d1c94a21a3bbdec5077e4cba",
        "deepnote_cell_type": "markdown",
        "id": "2-Gw_BXEiK9t"
      }
    },
    {
      "cell_type": "code",
      "source": [
        "def generar_descripcion(fruta):\n",
        "    \"\"\"\n",
        "    Given a fruit dictionary, returns its description.\n",
        "\n",
        "    Parameters\n",
        "    ----------\n",
        "    fruta : dict\n",
        "        A fruit dictionary with \"nombre\", \"tipo\", \"color\", \"pepas\" keys.\n",
        "\n",
        "    Returns\n",
        "    -------\n",
        "    str\n",
        "        A string containing the description of the fruit.\n",
        "    \"\"\"\n",
        "    nombre = fruta[\"nombre\"]\n",
        "\n",
        "    if nombre[-1] == \"a\":\n",
        "        genero = \"La\"\n",
        "    else:\n",
        "        genero = \"El\"\n",
        "\n",
        "    if fruta[\"pepas\"]:\n",
        "        pepas = \"Presenta\"\n",
        "    else:\n",
        "        pepas = \"No presenta\"\n",
        "\n",
        "    descripcion = \"{} {} es una fruta de tipo {} de color {}. {} pepas en su interior.\".format(\n",
        "        genero, nombre, fruta[\"tipo\"], fruta[\"color\"], pepas\n",
        "    )\n",
        "\n",
        "    return descripcion\n",
        "\n",
        "\n",
        "assert generar_descripcion(limon) == \"El limón es una fruta de tipo cítrica de color amarillo. Presenta pepas en su interior.\"\n",
        "assert generar_descripcion(naranja) == \"La naranja es una fruta de tipo cítrica de color naranjo. Presenta pepas en su interior.\"\n",
        "assert generar_descripcion(platano) == \"El plátano es una fruta de tipo tropical de color amarillo. No presenta pepas en su interior.\"\n",
        "assert generar_descripcion(piña) == \"La piña es una fruta de tipo tropical de color amarillo. No presenta pepas en su interior.\"\n",
        "assert generar_descripcion(frutilla) == \"La frutilla es una fruta de tipo bosque de color rojo. Presenta pepas en su interior.\"\n",
        "assert generar_descripcion(frambuesa) == \"La frambuesa es una fruta de tipo bosque de color rojo. Presenta pepas en su interior.\""
      ],
      "metadata": {
        "cell_id": "533c38d09f7546a9ba5ede71227f9409",
        "deepnote_cell_type": "code",
        "id": "HxDlw-vYiK9t"
      },
      "outputs": [],
      "execution_count": 3
    },
    {
      "cell_type": "markdown",
      "source": [
        "**2. La función `describir(datos)` que generalice la función `generar_descripcion` para recibir una lista de frutas y devolver una lista con las descripciones de cada una:**\n",
        "\n",
        "Por ejemplo, `describir([limon, naranja]])` deberá devolver una lista de la forma `[descripcion_limon, descripcion_naranja]`"
      ],
      "metadata": {
        "cell_id": "40f4763a10004bf9ac8f8d94a8cbe482",
        "deepnote_cell_type": "markdown",
        "id": "1vNLDWrFiK9t"
      }
    },
    {
      "cell_type": "code",
      "source": [
        "def describir(datos):\n",
        "    \"\"\"\n",
        "    Given a list of fruit dictionary, returns each fruit description.\n",
        "\n",
        "    Parameters\n",
        "    ----------\n",
        "    datos : list of dict\n",
        "        A list of fruit dictionary with \"nombre\", \"tipo\", \"color\", \n",
        "        \"pepas\" keys.\n",
        "\n",
        "    Returns\n",
        "    -------\n",
        "    list of str\n",
        "        A list of strings containing the description of each fruit.\n",
        "    \"\"\"\n",
        "    descripciones = []\n",
        "    for fruta in datos:\n",
        "        descripcion = generar_descripcion(fruta)\n",
        "        descripciones.append(descripcion)\n",
        "    return descripciones"
      ],
      "metadata": {
        "cell_id": "5b9a31f617b84bb9b8af2aa71a8249a8",
        "deepnote_cell_type": "code",
        "id": "kg5DEYWkiK9t"
      },
      "outputs": [],
      "execution_count": 4
    },
    {
      "cell_type": "markdown",
      "source": [
        "**3. La función `filtrar_por_pepa(datos, tiene_pepas)` que dado un tipo de fruta y un booleano, retorne las frutas que tienen o no tienen pepas (según el valor de `tiene_pepas`).**\n",
        "    \n",
        "\n",
        "Por ejemplo, `filtrar_por_pepa(datos, True)` deberá retornar una lista con los diccionarios de: naranja, limon, frutilla y frambuesa."
      ],
      "metadata": {
        "cell_id": "096d40181b344935a8daed1ef59e1ed3",
        "deepnote_cell_type": "markdown",
        "id": "iA4ai3xciK9t"
      }
    },
    {
      "cell_type": "code",
      "source": [
        "def filtrar_por_pepa(datos, tiene_pepas):\n",
        "    \"\"\"\n",
        "    Given a list of fruit dictionary, and a boolean (pepas or no pepas),\n",
        "    returns each fruit according if it has pepas or not.\n",
        "\n",
        "    Parameters\n",
        "    ----------\n",
        "    datos : list of dict\n",
        "        A list of fruit dictionary with \"nombre\", \"tipo\", \"color\",\n",
        "        \"pepas\" keys.\n",
        "    tiene_pepas : bool\n",
        "        A boolean representing if the fruit needed has pepas or not\n",
        "\n",
        "    Returns\n",
        "    -------\n",
        "    list of dict\n",
        "        A list of fruits with or without pepa.\n",
        "    \"\"\"\n",
        "    filtrados = []\n",
        "    for fruta in datos:\n",
        "        if fruta[\"pepas\"] == tiene_pepas:\n",
        "            filtrados.append(fruta)\n",
        "    return filtrados"
      ],
      "metadata": {
        "cell_id": "4b929adaff504132824ce55493656849",
        "deepnote_cell_type": "code",
        "id": "7S0A8yaSiK9t"
      },
      "outputs": [],
      "execution_count": 5
    },
    {
      "cell_type": "markdown",
      "source": [
        "**4. La función `conteo_colores(datos)` que cree un diccionario que haga un conteo los colores de las frutas.**\n",
        "\n",
        "Para estos datos, la función debería retornar el siguiente diccionario: \n",
        "    \n",
        "```python\n",
        "{\"amarillo\": 3, \"naranjo\": 1, \"rojo\": 2}"
      ],
      "metadata": {
        "cell_id": "31929b2f72f84543b98fa78cbac46745",
        "deepnote_cell_type": "markdown",
        "id": "bbO51u5ciK9u"
      }
    },
    {
      "cell_type": "code",
      "source": [
        "def conteo_colores(datos):\n",
        "    \"\"\"\n",
        "    Given a list of fruit dictionary, returns each color count.\n",
        "\n",
        "    Parameters\n",
        "    ----------\n",
        "    datos : list of dict\n",
        "        A list of fruit dictionary with \"nombre\", \"tipo\", \"color\",\n",
        "        \"pepas\" keys.\n",
        "\n",
        "    Returns\n",
        "    -------\n",
        "    dict\n",
        "        A dictionary with the count of each fruit color.\n",
        "    \"\"\"\n",
        "    conteo = {}\n",
        "    for fruta in datos:\n",
        "        color = fruta[\"color\"]\n",
        "        if color in conteo:\n",
        "            conteo[color] += 1\n",
        "        else:\n",
        "            conteo[color] = 1\n",
        "    return conteo"
      ],
      "metadata": {
        "cell_id": "9d58aa3406854329853f32316b6b0d07",
        "deepnote_cell_type": "code",
        "id": "Uo-duvIFiK9u"
      },
      "outputs": [],
      "execution_count": 6
    },
    {
      "cell_type": "markdown",
      "source": [
        "**5. La función `obtener_tipos` que devuelva una lista con los tipos únicos de fruta usando `set()`**.\n",
        "\n",
        "Por ejemplo, `obtener_tipos([limon, naranja, platano])` debería devolver `[\"citrica\", \"tropical\"]`"
      ],
      "metadata": {
        "cell_id": "680376561e244482aef7b577c1753252",
        "deepnote_cell_type": "markdown",
        "id": "k_d0aWqQiK9u"
      }
    },
    {
      "cell_type": "code",
      "source": [
        "def obtener_tipos(datos):\n",
        "    \"\"\"\n",
        "    Given a list of fruit dictionary, returns all unique types of fruit.\n",
        "\n",
        "    Parameters\n",
        "    ----------\n",
        "    datos : list of dict\n",
        "        A list of fruit dictionary with \"nombre\", \"tipo\", \"color\",\n",
        "        \"pepas\" keys.\n",
        "\n",
        "    Returns\n",
        "    -------\n",
        "    list of str\n",
        "        A list with unique types of fruit contained in datos.\n",
        "    \"\"\"\n",
        "    tipos = set()\n",
        "    for fruta in datos:\n",
        "        tipo = fruta[\"tipo\"]\n",
        "        tipos.add(tipo)\n",
        "    return list(tipos)"
      ],
      "metadata": {
        "cell_id": "0815c695d16d4e10afdc0de3e9e75edd",
        "deepnote_cell_type": "code",
        "id": "BkadA0MAiK9u"
      },
      "outputs": [],
      "execution_count": 7
    },
    {
      "cell_type": "markdown",
      "source": [
        "**6. Genere tres test para cada una de las funciones de la pregunta 5 y así comprobar que funcionan correctamente.**\n",
        "\n",
        "Se <u>sugiere</u> que se apoyen en las siguientes directrices: \n",
        "- Test para tratar resultados nulos\n",
        "- Test para un subconjunto interesante cuyo resultado no sea nulo\n",
        "- Test para todos los datos"
      ],
      "metadata": {
        "cell_id": "362d8b70b71b46eea57663b8cba43d9a",
        "deepnote_cell_type": "markdown",
        "id": "Pe_yQ5c-iK9u"
      }
    },
    {
      "cell_type": "markdown",
      "source": [
        "**Ejecuten esta celda para comprobar su código:**"
      ],
      "metadata": {
        "id": "F2mt7aIusap8",
        "cell_id": "fae9a28ed4b24531910f59386004a311",
        "deepnote_cell_height": 52.390625,
        "deepnote_cell_type": "markdown"
      }
    },
    {
      "cell_type": "code",
      "source": [
        "# ---------------------------------------------------------------------\n",
        "# test describir\n",
        "\n",
        "assert describir([]) == [] # test 1\n",
        "assert describir([limon, naranja]) ==  [generar_descripcion(limon), \n",
        "                                        generar_descripcion(naranja)]# test 2\n",
        "assert describir(datos) == [generar_descripcion(limon),\n",
        "                            generar_descripcion(naranja),\n",
        "                            generar_descripcion(platano),\n",
        "                            generar_descripcion(piña),\n",
        "                            generar_descripcion(frutilla),\n",
        "                            generar_descripcion(frambuesa)] # test 3\n",
        "\n",
        "# ---------------------------------------------------------------------\n",
        "# test filtro\n",
        "\n",
        "assert filtrar_por_pepa([],True) == [] # test 1\n",
        "assert filtrar_por_pepa([limon, naranja, platano], False) == [platano] # test 2\n",
        "assert filtrar_por_pepa(datos, True) == [limon, naranja, \n",
        "                                         frutilla, frambuesa] # test 3\n",
        "\n",
        "\n",
        "\n",
        "# ---------------------------------------------------------------------\n",
        "# test conteo\n",
        "\n",
        "assert conteo_colores([]) == {} # test 1\n",
        "assert conteo_colores([frutilla, naranja]) == {\"naranjo\": 1, \"rojo\": 1} # test 2\n",
        "assert conteo_colores(datos) == {\"amarillo\": 3, \"naranjo\": 1, \"rojo\": 2} # test 3\n",
        "\n",
        "\n",
        "# ---------------------------------------------------------------------\n",
        "# test tipos\n",
        "\n",
        "assert obtener_tipos([]) == [] # test 1\n",
        "assert set(obtener_tipos([limon, naranja, platano])) == set([\"cítrica\", \"tropical\"]) # test 2\n",
        "assert set(obtener_tipos(datos)) == set(['bosque', 'cítrica', 'tropical']) # test 3\n"
      ],
      "metadata": {
        "id": "c39b58c0",
        "cell_id": "8ab5b3ce3d804416821fb8f1a880b6af",
        "source_hash": "af520603",
        "execution_start": 1648863016644,
        "execution_millis": 0,
        "deepnote_to_be_reexecuted": false,
        "deepnote_cell_type": "code"
      },
      "outputs": [],
      "execution_count": 8
    },
    {
      "cell_type": "markdown",
      "source": [
        "**7. Programe nuevamente las funciones `describir`, `filtrar_por_pepa` y `obtener_tipos`, pero esta vez usando *comprehensions*.**\n",
        "\n",
        "*Hint: Pueden reutilizar la documentación escrita en la pregunta 5*"
      ],
      "metadata": {
        "cell_id": "745ed4bbc60044f182fbc3c4caec5c84",
        "deepnote_cell_type": "markdown",
        "id": "K55DQ2MDiK9u"
      }
    },
    {
      "cell_type": "code",
      "source": [
        "def obtener_descripciones_v2(datos):\n",
        "    \"\"\"\n",
        "    Given a list of fruit dictionary, returns each fruit description.\n",
        "\n",
        "    Parameters\n",
        "    ----------\n",
        "    datos : list of dict\n",
        "        A list of fruit dictionary with \"nombre\", \"tipo\", \"color\", \n",
        "        \"pepas\" keys.\n",
        "\n",
        "    Returns\n",
        "    -------\n",
        "    list of str\n",
        "        A list of strings containing the description of each fruit.\n",
        "    \"\"\"\n",
        "    return [generar_descripcion(fruta) for fruta in datos]\n",
        "\n",
        "def filtrar_por_pepa_v2(datos, tiene_pepas):\n",
        "    \"\"\"\n",
        "    Given a list of fruit dictionary, and a boolean (pepas or no pepas),\n",
        "    returns each fruit according if it has pepas or not.\n",
        "\n",
        "    Parameters\n",
        "    ----------\n",
        "    datos : list of dict\n",
        "        A list of fruit dictionary with \"nombre\", \"tipo\", \"color\",\n",
        "        \"pepas\" keys.\n",
        "    tiene_pepas : bool\n",
        "        A boolean representing if the fruit needed has pepas or not\n",
        "\n",
        "    Returns\n",
        "    -------\n",
        "    list of dict\n",
        "        A list of fruits with or without pepa.\n",
        "    \"\"\"\n",
        "    return [fruta for fruta in datos if fruta[\"pepas\"] == tiene_pepas]\n",
        "\n",
        "def obtener_tipos_v2(datos):\n",
        "    \"\"\"\n",
        "    Given a list of fruit dictionary, returns all unique types of fruit.\n",
        "\n",
        "    Parameters\n",
        "    ----------\n",
        "    datos : list of dict\n",
        "        A list of fruit dictionary with \"nombre\", \"tipo\", \"color\",\n",
        "        \"pepas\" keys.\n",
        "\n",
        "    Returns\n",
        "    -------\n",
        "    list of str\n",
        "        A list with unique types of fruit contained in datos.\n",
        "    \"\"\"\n",
        "    return list({fruta[\"tipo\"] for fruta in datos})"
      ],
      "metadata": {
        "cell_id": "18b1fa6908a3456483d9bc7f87788b8d",
        "deepnote_cell_type": "code",
        "id": "xwQ-zIBjiK9v"
      },
      "outputs": [],
      "execution_count": 9
    },
    {
      "cell_type": "markdown",
      "source": [
        "## Parte 2: Electrodomésticos \n",
        "\n",
        "En esta parte se solicitarán un par de clases que permitirá jugar con la Programación Orientada a Objetos.\n",
        "\n",
        "<div align='center'>\n",
        "<img src='https://upload.wikimedia.org/wikipedia/commons/6/67/Breville.jpg' width=400/>\n",
        "</div>\n",
        "\n",
        "\n",
        "### [0.5] Clase Electrodoméstico\n",
        "\n",
        "Defina la clase `Electrodomestico` que implemente:\n",
        "\n",
        "\n",
        "- Un constructor que defina un atributo de instancia llamado `enchufado` que almacene valores booleanos. \n",
        "- Un método llamado `esta_enchufado(self)` que levante una excepción `Exception` y que termine con la ejecución del programa cuando el atributo enchufado sea `False`. La excepción debe levantar el mensaje `'Alerta ⚠️: El electrodoméstico no está enchufado'`\n",
        "- Un método llamado `enchufar(self)` que cambia el estado de `enchufado` a True.\n",
        "\n"
      ],
      "metadata": {
        "id": "492b941a",
        "cell_id": "70857dcf13464ee2969cc1ce546cce0c",
        "deepnote_cell_height": 723.59375,
        "deepnote_cell_type": "markdown"
      }
    },
    {
      "cell_type": "code",
      "source": [
        "class Electrodomestico:\n",
        "    \n",
        "    def __init__(self):\n",
        "      self.enchufado = False\n",
        "      \n",
        "    def esta_enchufado(self):\n",
        "        if not self.enchufado:\n",
        "            raise Exception('Alerta ⚠️: El electrodoméstico no está enchufado')\n",
        "            \n",
        "    def enchufar(self):\n",
        "      self.enchufado = True"
      ],
      "metadata": {
        "id": "9f8aa475",
        "cell_id": "3c65e471110f49fe9f5b54287ce74c9b",
        "source_hash": "43ca10f0",
        "execution_start": 1648863016745,
        "execution_millis": 21,
        "deepnote_to_be_reexecuted": false,
        "deepnote_cell_type": "code"
      },
      "outputs": [],
      "execution_count": 10
    },
    {
      "cell_type": "markdown",
      "source": [
        "### Clase Jugera [1.5 puntos] \n",
        "\n",
        "\n",
        "<div align='center'>\n",
        "<img src='https://upload.wikimedia.org/wikipedia/commons/b/bb/Liquadora_%28parts%29.JPG' width=400/>\n",
        "</div>\n",
        "\n",
        "\n",
        "Implemente la clase `Jugera` que extiende `Electrodomestico` y que implemente: \n",
        "\n",
        "\n",
        "- Un constructor que tenga una lista de ingredientes frutales (llamado `bandeja`).\n",
        "\n",
        "\n",
        "- Un método llamado `agregar_ingrediente(self, nueva_fruta)` que dado una fruta, agregue esa fruta a la `bandeja`.\n",
        "\n",
        "- Un método llamado `listar_ingredientes(self)` que imprima (con `print`) los ingredientes actuales de la `bandeja` de la siguiente forma: \n",
        "\n",
        "    `Ingredientes en la bandeja: frutilla, frambuesa, piña.`\n",
        "\n",
        "De lo contrario si no tiene ingredientes imprima:\n",
        "\n",
        "    `Bandeja vacía`\n",
        "\n",
        "\n",
        "**Hint:** Investigar el método `join` de un string para generar el string con los nombres de las frutas.\n",
        "    \n",
        "    \n",
        "    \n",
        "\n",
        "- Un método llamado `preparar_jugo(self)` que: \n",
        "    - Primero verifique que el electrodoméstico esté enchufado usando `self.esta_enchufado()`.\n",
        "    - Verifique que haya por lo menos un ingrediente en la `bandeja`. En el caso que no haya, levantar una excepción con contenido `'Error ❌: La bandeja no tiene ingredientes.'`\n",
        "    - Verifique que ninguna fruta tenga pepas. En el caso que haya alguna, imprimir (con `print`) el mensaje de advertencia `'Alerta ⚠️: El jugo puede contener restos de pepas.'`. Puede usar la función definida en la sección anterior.\n",
        "    - Genere un mensaje indicado `Jugo de {nombres de las frutas separadas por una ,} listo. 🏖️🥤 Que lo disfrutes!!! 🥤🏖️. ` (Hint: Usar nuevamente `join`).\n",
        "    - Vacie la `bandeja` (es decir, eliminar todas las frutas de la bandeja).\n",
        "    - Retorne el mensaje generado.\n"
      ],
      "metadata": {
        "id": "d7d477b5",
        "cell_id": "56f3ae20d61d4fcab7763a14531ecbfd",
        "deepnote_cell_height": 1059.59375,
        "deepnote_cell_type": "markdown"
      }
    },
    {
      "cell_type": "code",
      "source": [
        "class Jugera(Electrodomestico):\n",
        "    \n",
        "    def __init__(self):\n",
        "        super().__init__()\n",
        "        # Código Aquí\n",
        "        self.bandeja = []\n",
        "        \n",
        "    def agregar_ingrediente(self, nueva_fruta):\n",
        "        # Código Aquí\n",
        "        self.bandeja.append(nueva_fruta)\n",
        "\n",
        "    def print_bandeja(self):\n",
        "        return self.bandeja[0][\"nombre\"] + ''.join([f\", {fruta['nombre']}\" for fruta in self.bandeja[1:]])\n",
        "     \n",
        "    def listar_ingredientes(self):\n",
        "        # Código Aquí\n",
        "        if not self.bandeja:\n",
        "          print(\"Bandeja vacía\")\n",
        "        \n",
        "        else:\n",
        "          print(f\"Ingredientes en la bandeja: {self.print_bandeja()}.\")\n",
        "\n",
        "    \n",
        "    def preparar_jugo(self):\n",
        "        # Código Aquí\n",
        "        self.esta_enchufado()\n",
        "\n",
        "        if not self.bandeja:\n",
        "          raise Exception('Error ❌: La bandeja no tiene ingredientes.')\n",
        "\n",
        "        if filtrar_por_pepa(self.bandeja, True):\n",
        "          print('Alerta ⚠️: El jugo puede contener restos de pepas.')\n",
        "        \n",
        "        mensaje = f\"Jugo de {self.print_bandeja()} listo. 🏖️🥤 Que lo disfrutes!!! 🥤🏖️.\"\n",
        "\n",
        "        self.bandeja = []\n",
        "\n",
        "        return mensaje"
      ],
      "metadata": {
        "id": "d9db037b",
        "cell_id": "9f42c023a75b4b16b24e5b09d7276e88",
        "source_hash": "fe592b51",
        "execution_start": 1648863366156,
        "execution_millis": 0,
        "deepnote_to_be_reexecuted": false,
        "deepnote_cell_type": "code"
      },
      "outputs": [],
      "execution_count": 11
    },
    {
      "cell_type": "markdown",
      "source": [
        "### Interacciones\n",
        "\n",
        "Las siguientes celdas les permitirán probar las interacciones de esta clase.\n",
        "La ejecución es solo referencial y no lleva puntaje. La idea es que la utilice como guía para desarrollar la clase."
      ],
      "metadata": {
        "id": "6889015a",
        "cell_id": "73d709b368c84bc6a3c5336a6f549eac",
        "deepnote_cell_height": 122.796875,
        "deepnote_cell_type": "markdown"
      }
    },
    {
      "cell_type": "code",
      "source": [
        "jugera = Jugera()\n",
        "\n",
        "# Como no tenemos ingredientes, listar_ingredientes deberá imprimir 'Bandeja vacía'\n",
        "jugera.listar_ingredientes()"
      ],
      "metadata": {
        "id": "913af660",
        "colab": {
          "base_uri": "https://localhost:8080/"
        },
        "cell_id": "5c47280064504e948d21f495ca2f8053",
        "outputId": "2d1cf363-8b57-473f-d811-38cf09f2916a",
        "source_hash": "239b8903",
        "execution_start": 1648863369348,
        "execution_millis": 8,
        "deepnote_to_be_reexecuted": false,
        "deepnote_cell_type": "code"
      },
      "outputs": [
        {
          "output_type": "stream",
          "name": "stdout",
          "text": [
            "Bandeja vacía\n"
          ]
        }
      ],
      "execution_count": 12
    },
    {
      "cell_type": "code",
      "source": [
        "# Esta celda debería levantar una excepcion indicando que no está enchufada la jugera.\n",
        "jugera.preparar_jugo()"
      ],
      "metadata": {
        "id": "9d06bf3e",
        "colab": {
          "height": 336,
          "base_uri": "https://localhost:8080/"
        },
        "cell_id": "7cfdd145bbff42d4a3c66c50d2559120",
        "outputId": "801f079b-43cd-4aed-f474-e427f0a2cc0e",
        "scrolled": false,
        "source_hash": "77689b24",
        "execution_start": 1648863371573,
        "execution_millis": 20,
        "deepnote_to_be_reexecuted": false,
        "deepnote_cell_type": "code"
      },
      "outputs": [
        {
          "output_type": "error",
          "ename": "Exception",
          "evalue": "ignored",
          "traceback": [
            "\u001b[0;31m---------------------------------------------------------------------------\u001b[0m",
            "\u001b[0;31mException\u001b[0m                                 Traceback (most recent call last)",
            "\u001b[0;32m<ipython-input-13-12a82fa67e1d>\u001b[0m in \u001b[0;36m<cell line: 2>\u001b[0;34m()\u001b[0m\n\u001b[1;32m      1\u001b[0m \u001b[0;31m# Esta celda debería levantar una excepcion indicando que no está enchufada la jugera.\u001b[0m\u001b[0;34m\u001b[0m\u001b[0;34m\u001b[0m\u001b[0m\n\u001b[0;32m----> 2\u001b[0;31m \u001b[0mjugera\u001b[0m\u001b[0;34m.\u001b[0m\u001b[0mpreparar_jugo\u001b[0m\u001b[0;34m(\u001b[0m\u001b[0;34m)\u001b[0m\u001b[0;34m\u001b[0m\u001b[0;34m\u001b[0m\u001b[0m\n\u001b[0m",
            "\u001b[0;32m<ipython-input-11-12cec9f071f9>\u001b[0m in \u001b[0;36mpreparar_jugo\u001b[0;34m(self)\u001b[0m\n\u001b[1;32m     24\u001b[0m     \u001b[0;32mdef\u001b[0m \u001b[0mpreparar_jugo\u001b[0m\u001b[0;34m(\u001b[0m\u001b[0mself\u001b[0m\u001b[0;34m)\u001b[0m\u001b[0;34m:\u001b[0m\u001b[0;34m\u001b[0m\u001b[0;34m\u001b[0m\u001b[0m\n\u001b[1;32m     25\u001b[0m         \u001b[0;31m# Código Aquí\u001b[0m\u001b[0;34m\u001b[0m\u001b[0;34m\u001b[0m\u001b[0m\n\u001b[0;32m---> 26\u001b[0;31m         \u001b[0mself\u001b[0m\u001b[0;34m.\u001b[0m\u001b[0mesta_enchufado\u001b[0m\u001b[0;34m(\u001b[0m\u001b[0;34m)\u001b[0m\u001b[0;34m\u001b[0m\u001b[0;34m\u001b[0m\u001b[0m\n\u001b[0m\u001b[1;32m     27\u001b[0m \u001b[0;34m\u001b[0m\u001b[0m\n\u001b[1;32m     28\u001b[0m         \u001b[0;32mif\u001b[0m \u001b[0;32mnot\u001b[0m \u001b[0mself\u001b[0m\u001b[0;34m.\u001b[0m\u001b[0mbandeja\u001b[0m\u001b[0;34m:\u001b[0m\u001b[0;34m\u001b[0m\u001b[0;34m\u001b[0m\u001b[0m\n",
            "\u001b[0;32m<ipython-input-10-19858dcb8d11>\u001b[0m in \u001b[0;36mesta_enchufado\u001b[0;34m(self)\u001b[0m\n\u001b[1;32m      6\u001b[0m     \u001b[0;32mdef\u001b[0m \u001b[0mesta_enchufado\u001b[0m\u001b[0;34m(\u001b[0m\u001b[0mself\u001b[0m\u001b[0;34m)\u001b[0m\u001b[0;34m:\u001b[0m\u001b[0;34m\u001b[0m\u001b[0;34m\u001b[0m\u001b[0m\n\u001b[1;32m      7\u001b[0m         \u001b[0;32mif\u001b[0m \u001b[0;32mnot\u001b[0m \u001b[0mself\u001b[0m\u001b[0;34m.\u001b[0m\u001b[0menchufado\u001b[0m\u001b[0;34m:\u001b[0m\u001b[0;34m\u001b[0m\u001b[0;34m\u001b[0m\u001b[0m\n\u001b[0;32m----> 8\u001b[0;31m             \u001b[0;32mraise\u001b[0m \u001b[0mException\u001b[0m\u001b[0;34m(\u001b[0m\u001b[0;34m'Alerta ⚠️: El electrodoméstico no está enchufado'\u001b[0m\u001b[0;34m)\u001b[0m\u001b[0;34m\u001b[0m\u001b[0;34m\u001b[0m\u001b[0m\n\u001b[0m\u001b[1;32m      9\u001b[0m \u001b[0;34m\u001b[0m\u001b[0m\n\u001b[1;32m     10\u001b[0m     \u001b[0;32mdef\u001b[0m \u001b[0menchufar\u001b[0m\u001b[0;34m(\u001b[0m\u001b[0mself\u001b[0m\u001b[0;34m)\u001b[0m\u001b[0;34m:\u001b[0m\u001b[0;34m\u001b[0m\u001b[0;34m\u001b[0m\u001b[0m\n",
            "\u001b[0;31mException\u001b[0m: Alerta ⚠️: El electrodoméstico no está enchufado"
          ]
        }
      ],
      "execution_count": 13
    },
    {
      "cell_type": "code",
      "source": [
        "# Enchufamos el electrodoméstico\n",
        "jugera.enchufar()"
      ],
      "metadata": {
        "id": "3ad38f18",
        "cell_id": "6a19f22b8c684cad81373a1a3d0fb64c",
        "source_hash": "36a2ab49",
        "execution_start": 1648863372430,
        "execution_millis": 0,
        "deepnote_to_be_reexecuted": false,
        "deepnote_cell_type": "code"
      },
      "outputs": [],
      "execution_count": 14
    },
    {
      "cell_type": "code",
      "source": [
        "# Esta celda debería levantar ina excepción informandoles que la bandeja no tiene ingredientes.\n",
        "jugera.preparar_jugo()"
      ],
      "metadata": {
        "id": "48009872",
        "colab": {
          "height": 312,
          "base_uri": "https://localhost:8080/"
        },
        "cell_id": "c6d5077fdb3d4025b877769428edc14a",
        "outputId": "2dd8d499-f9ee-4549-e088-08a880a15173",
        "scrolled": true,
        "source_hash": "27514b2c",
        "execution_start": 1648863376136,
        "execution_millis": 173,
        "deepnote_to_be_reexecuted": false,
        "deepnote_cell_type": "code"
      },
      "outputs": [
        {
          "output_type": "error",
          "ename": "Exception",
          "evalue": "ignored",
          "traceback": [
            "\u001b[0;31m---------------------------------------------------------------------------\u001b[0m",
            "\u001b[0;31mException\u001b[0m                                 Traceback (most recent call last)",
            "\u001b[0;32m<ipython-input-15-763feb2b9970>\u001b[0m in \u001b[0;36m<cell line: 2>\u001b[0;34m()\u001b[0m\n\u001b[1;32m      1\u001b[0m \u001b[0;31m# Esta celda debería levantar ina excepción informandoles que la bandeja no tiene ingredientes.\u001b[0m\u001b[0;34m\u001b[0m\u001b[0;34m\u001b[0m\u001b[0m\n\u001b[0;32m----> 2\u001b[0;31m \u001b[0mjugera\u001b[0m\u001b[0;34m.\u001b[0m\u001b[0mpreparar_jugo\u001b[0m\u001b[0;34m(\u001b[0m\u001b[0;34m)\u001b[0m\u001b[0;34m\u001b[0m\u001b[0;34m\u001b[0m\u001b[0m\n\u001b[0m",
            "\u001b[0;32m<ipython-input-11-12cec9f071f9>\u001b[0m in \u001b[0;36mpreparar_jugo\u001b[0;34m(self)\u001b[0m\n\u001b[1;32m     27\u001b[0m \u001b[0;34m\u001b[0m\u001b[0m\n\u001b[1;32m     28\u001b[0m         \u001b[0;32mif\u001b[0m \u001b[0;32mnot\u001b[0m \u001b[0mself\u001b[0m\u001b[0;34m.\u001b[0m\u001b[0mbandeja\u001b[0m\u001b[0;34m:\u001b[0m\u001b[0;34m\u001b[0m\u001b[0;34m\u001b[0m\u001b[0m\n\u001b[0;32m---> 29\u001b[0;31m           \u001b[0;32mraise\u001b[0m \u001b[0mException\u001b[0m\u001b[0;34m(\u001b[0m\u001b[0;34m'Error ❌: La bandeja no tiene ingredientes.'\u001b[0m\u001b[0;34m)\u001b[0m\u001b[0;34m\u001b[0m\u001b[0;34m\u001b[0m\u001b[0m\n\u001b[0m\u001b[1;32m     30\u001b[0m \u001b[0;34m\u001b[0m\u001b[0m\n\u001b[1;32m     31\u001b[0m         \u001b[0;32mif\u001b[0m \u001b[0mfiltrar_por_pepa\u001b[0m\u001b[0;34m(\u001b[0m\u001b[0mself\u001b[0m\u001b[0;34m.\u001b[0m\u001b[0mbandeja\u001b[0m\u001b[0;34m,\u001b[0m \u001b[0;32mTrue\u001b[0m\u001b[0;34m)\u001b[0m\u001b[0;34m:\u001b[0m\u001b[0;34m\u001b[0m\u001b[0;34m\u001b[0m\u001b[0m\n",
            "\u001b[0;31mException\u001b[0m: Error ❌: La bandeja no tiene ingredientes."
          ]
        }
      ],
      "execution_count": 15
    },
    {
      "cell_type": "code",
      "source": [
        "# Agregamos algunos ingredientes\n",
        "jugera.agregar_ingrediente(naranja)\n",
        "jugera.agregar_ingrediente(platano)\n",
        "# Y los listamos (debería imprimir: 'Ingredientes en la bandeja: naranja, plátano')\n",
        "jugera.listar_ingredientes()"
      ],
      "metadata": {
        "id": "4873e0bf",
        "colab": {
          "base_uri": "https://localhost:8080/"
        },
        "cell_id": "c29aa5b7dc3745ff90ddadee72e24b3f",
        "outputId": "d937a784-b390-418d-b53a-f3fa3c4afb23",
        "source_hash": "a8f0979e",
        "execution_start": 1648863377052,
        "execution_millis": 6,
        "deepnote_to_be_reexecuted": false,
        "deepnote_cell_type": "code"
      },
      "outputs": [
        {
          "output_type": "stream",
          "name": "stdout",
          "text": [
            "Ingredientes en la bandeja: naranja, plátano.\n"
          ]
        }
      ],
      "execution_count": 16
    },
    {
      "cell_type": "code",
      "source": [
        "# Preparamos el jugo: 'Jugo de naranja, plátano listo. 🏖️🥤 Que lo disfrutes!!! 🥤🏖️.'\n",
        "jugera.preparar_jugo()"
      ],
      "metadata": {
        "id": "ff555151",
        "colab": {
          "height": 53,
          "base_uri": "https://localhost:8080/"
        },
        "cell_id": "d1890bc44c104a85a090ee3e997e1df9",
        "outputId": "78de4c9d-9958-46d8-bad9-d39abba2b1ca",
        "source_hash": "7086345e",
        "execution_start": 1648863380098,
        "execution_millis": 5,
        "deepnote_to_be_reexecuted": false,
        "deepnote_cell_type": "code"
      },
      "outputs": [
        {
          "output_type": "stream",
          "name": "stdout",
          "text": [
            "Alerta ⚠️: El jugo puede contener restos de pepas.\n"
          ]
        },
        {
          "output_type": "execute_result",
          "data": {
            "text/plain": [
              "'Jugo de naranja, plátano listo. 🏖️🥤 Que lo disfrutes!!! 🥤🏖️.'"
            ],
            "application/vnd.google.colaboratory.intrinsic+json": {
              "type": "string"
            }
          },
          "metadata": {},
          "execution_count": 17
        }
      ],
      "execution_count": 17
    },
    {
      "cell_type": "code",
      "source": [
        "# Una vez preparado el jugo, debería vaciarse la bandeja (imprimir Bandeja vacía)\n",
        "jugera.listar_ingredientes()"
      ],
      "metadata": {
        "id": "bbc532b2",
        "colab": {
          "base_uri": "https://localhost:8080/"
        },
        "cell_id": "323edee62a1d432d9ca2eadaa8a9f2c4",
        "outputId": "9f4d67dc-b8c2-494a-a7d4-ecfb065637f6",
        "source_hash": "6a032d0a",
        "execution_start": 1648863382273,
        "execution_millis": 0,
        "deepnote_to_be_reexecuted": false,
        "deepnote_cell_type": "code"
      },
      "outputs": [
        {
          "output_type": "stream",
          "name": "stdout",
          "text": [
            "Bandeja vacía\n"
          ]
        }
      ],
      "execution_count": 18
    },
    {
      "cell_type": "markdown",
      "source": [
        "### Clase Jugera + Properties  [1.0]\n",
        "\n",
        "Implementar `bandeja` usando una `property` que permita setear una `nueva_bandeja` como `bandeja` según las siguientes condiciones:\n",
        "\n",
        "\n",
        "- Compruebe que `nueva_bandeja` sea una lista. En caso contrario, levante una excepción.\n",
        "- No permita agregar más de 3 ingredientes a la bandeja a la vez. Si se entregan más de 3 frutas, se levante una excepción.\n",
        "- Se compruebe que todos los elementos de la lista sean frutas. Para esto, por cada fruta compruebe que:\n",
        "    1. La fruta sea diccionario.\n",
        "    2. El diccionario entregado tenga las llaves `nombre`, `tipo`, `color` y `pepas`."
      ],
      "metadata": {
        "id": "972dbcac",
        "cell_id": "aa7c6610855d48bb85848283fe9fcca0",
        "deepnote_cell_height": 297.1875,
        "deepnote_cell_type": "markdown"
      }
    },
    {
      "cell_type": "code",
      "source": [
        "class Jugera(Electrodomestico):\n",
        "    \n",
        "    def __init__(self):\n",
        "        # Código Aquí\n",
        "        super().__init__()\n",
        "        self._bandeja = [] # Private\n",
        "\n",
        "    @property\n",
        "    def bandeja(self): \n",
        "        # Código Aquí\n",
        "        return self._bandeja\n",
        "        \n",
        "    @bandeja.setter\n",
        "    def bandeja(self, nueva_bandeja):\n",
        "        # Código Aquí\n",
        "        llaves = {\"nombre\": \"test\", \"tipo\": \"test\", \"color\": \"test\", \"pepas\": \"test\"}\n",
        "\n",
        "        if not isinstance(nueva_bandeja, list):\n",
        "          raise Exception(\"Error ❌: La nueva bandeja no es una lista\")\n",
        "        \n",
        "        elif len(nueva_bandeja) > 3:\n",
        "          raise Exception(\"Error ❌: No se pueden agregar más de 3 frutas a la vez\")\n",
        "\n",
        "        tipos_de_frutas = [type(fruta) for fruta in nueva_bandeja]\n",
        "        for fruta in nueva_bandeja:\n",
        "          if not isinstance(fruta, dict):\n",
        "            raise Exception(\"Error ❌: Hay una fruta que no es un diccionario\")\n",
        "\n",
        "          elif fruta.keys() != llaves.keys():\n",
        "            raise Exception(\"Error ❌: Un elemento no tiene todas las propiedades de una fruta\")\n",
        "\n",
        "        self._bandeja = nueva_bandeja\n",
        "\n",
        "    def agregar_ingrediente(self, nueva_fruta):\n",
        "        # Código Aquí\n",
        "        if len(self.bandeja) + 1 > 3:\n",
        "          raise Exception(\"Error ❌: No se pueden agregar más de 3 frutas a la vez\")\n",
        "        self.bandeja.append(nueva_fruta)\n",
        "\n",
        "    def print_bandeja(self):\n",
        "        return self.bandeja[0][\"nombre\"] + ''.join([f\", {fruta['nombre']}\" for fruta in self.bandeja[1:]])\n",
        "     \n",
        "    def listar_ingredientes(self):\n",
        "        # Código Aquí\n",
        "        if not self.bandeja:\n",
        "          print(\"Bandeja vacía\")\n",
        "        \n",
        "        else:\n",
        "          print(f\"Ingredientes en la bandeja: {self.print_bandeja()}.\")\n",
        "\n",
        "    \n",
        "    def preparar_jugo(self):\n",
        "        # Código Aquí\n",
        "        self.esta_enchufado()\n",
        "\n",
        "        if not self.bandeja:\n",
        "          raise Exception('Error ❌: La bandeja no tiene ingredientes.')\n",
        "\n",
        "        if filtrar_por_pepa(self.bandeja, True):\n",
        "          print('Alerta ⚠️: El jugo puede contener restos de pepas.')\n",
        "        \n",
        "        mensaje = f\"Jugo de {self.print_bandeja()} listo. 🏖️🥤 Que lo disfrutes!!! 🥤🏖️.\"\n",
        "\n",
        "        self._bandeja = []\n",
        "        \n",
        "        return mensaje"
      ],
      "metadata": {
        "id": "X3RXI9nisGfa",
        "cell_id": "806570623e07479eb9eb68009e97af06",
        "source_hash": "68977855",
        "execution_start": 1648863394051,
        "execution_millis": 5,
        "deepnote_to_be_reexecuted": false,
        "deepnote_cell_type": "code"
      },
      "outputs": [],
      "execution_count": 19
    },
    {
      "cell_type": "markdown",
      "source": [
        "### Interacciones\n",
        "\n",
        "Las siguientes celdas les permitirán probar las interacciones de esta clase.\n",
        "La ejecución es solo referencial y no lleva puntaje. La idea es que la utilice como guía para desarrollar la clase."
      ],
      "metadata": {
        "tags": [],
        "cell_id": "7002ed07ad6a435288ecbe4513d9d10e",
        "deepnote_cell_height": 122.796875,
        "deepnote_cell_type": "markdown",
        "id": "cURFLoa8iK9x"
      }
    },
    {
      "cell_type": "code",
      "source": [
        "jugera_2 = Jugera()\n",
        "\n",
        "jugera_2.listar_ingredientes()"
      ],
      "metadata": {
        "tags": [],
        "cell_id": "61fb1b1ad18b4e94a88a959780730c58",
        "source_hash": "d7617c26",
        "execution_start": 1648863396777,
        "execution_millis": 4,
        "deepnote_to_be_reexecuted": false,
        "deepnote_cell_type": "code",
        "id": "JlbSOtG0iK9x",
        "outputId": "816bff57-877c-4a43-ebc2-6afbbf85ff7a",
        "colab": {
          "base_uri": "https://localhost:8080/"
        }
      },
      "outputs": [
        {
          "output_type": "stream",
          "name": "stdout",
          "text": [
            "Bandeja vacía\n"
          ]
        }
      ],
      "execution_count": 20
    },
    {
      "cell_type": "code",
      "source": [
        "jugera_2.preparar_jugo()"
      ],
      "metadata": {
        "tags": [],
        "cell_id": "4089968aee614a0298c852722ac6b56c",
        "source_hash": "480070d3",
        "execution_start": 1648863398145,
        "execution_millis": 18,
        "deepnote_to_be_reexecuted": false,
        "deepnote_cell_type": "code",
        "id": "HCJv1wL3iK9x",
        "outputId": "0d396abe-bbca-473c-f1f4-a343bbb60a8e",
        "colab": {
          "base_uri": "https://localhost:8080/",
          "height": 318
        }
      },
      "outputs": [
        {
          "output_type": "error",
          "ename": "Exception",
          "evalue": "ignored",
          "traceback": [
            "\u001b[0;31m---------------------------------------------------------------------------\u001b[0m",
            "\u001b[0;31mException\u001b[0m                                 Traceback (most recent call last)",
            "\u001b[0;32m<ipython-input-21-b7b38da5dd79>\u001b[0m in \u001b[0;36m<cell line: 1>\u001b[0;34m()\u001b[0m\n\u001b[0;32m----> 1\u001b[0;31m \u001b[0mjugera_2\u001b[0m\u001b[0;34m.\u001b[0m\u001b[0mpreparar_jugo\u001b[0m\u001b[0;34m(\u001b[0m\u001b[0;34m)\u001b[0m\u001b[0;34m\u001b[0m\u001b[0;34m\u001b[0m\u001b[0m\n\u001b[0m",
            "\u001b[0;32m<ipython-input-19-daf759edd520>\u001b[0m in \u001b[0;36mpreparar_jugo\u001b[0;34m(self)\u001b[0m\n\u001b[1;32m     52\u001b[0m     \u001b[0;32mdef\u001b[0m \u001b[0mpreparar_jugo\u001b[0m\u001b[0;34m(\u001b[0m\u001b[0mself\u001b[0m\u001b[0;34m)\u001b[0m\u001b[0;34m:\u001b[0m\u001b[0;34m\u001b[0m\u001b[0;34m\u001b[0m\u001b[0m\n\u001b[1;32m     53\u001b[0m         \u001b[0;31m# Código Aquí\u001b[0m\u001b[0;34m\u001b[0m\u001b[0;34m\u001b[0m\u001b[0m\n\u001b[0;32m---> 54\u001b[0;31m         \u001b[0mself\u001b[0m\u001b[0;34m.\u001b[0m\u001b[0mesta_enchufado\u001b[0m\u001b[0;34m(\u001b[0m\u001b[0;34m)\u001b[0m\u001b[0;34m\u001b[0m\u001b[0;34m\u001b[0m\u001b[0m\n\u001b[0m\u001b[1;32m     55\u001b[0m \u001b[0;34m\u001b[0m\u001b[0m\n\u001b[1;32m     56\u001b[0m         \u001b[0;32mif\u001b[0m \u001b[0;32mnot\u001b[0m \u001b[0mself\u001b[0m\u001b[0;34m.\u001b[0m\u001b[0mbandeja\u001b[0m\u001b[0;34m:\u001b[0m\u001b[0;34m\u001b[0m\u001b[0;34m\u001b[0m\u001b[0m\n",
            "\u001b[0;32m<ipython-input-10-19858dcb8d11>\u001b[0m in \u001b[0;36mesta_enchufado\u001b[0;34m(self)\u001b[0m\n\u001b[1;32m      6\u001b[0m     \u001b[0;32mdef\u001b[0m \u001b[0mesta_enchufado\u001b[0m\u001b[0;34m(\u001b[0m\u001b[0mself\u001b[0m\u001b[0;34m)\u001b[0m\u001b[0;34m:\u001b[0m\u001b[0;34m\u001b[0m\u001b[0;34m\u001b[0m\u001b[0m\n\u001b[1;32m      7\u001b[0m         \u001b[0;32mif\u001b[0m \u001b[0;32mnot\u001b[0m \u001b[0mself\u001b[0m\u001b[0;34m.\u001b[0m\u001b[0menchufado\u001b[0m\u001b[0;34m:\u001b[0m\u001b[0;34m\u001b[0m\u001b[0;34m\u001b[0m\u001b[0m\n\u001b[0;32m----> 8\u001b[0;31m             \u001b[0;32mraise\u001b[0m \u001b[0mException\u001b[0m\u001b[0;34m(\u001b[0m\u001b[0;34m'Alerta ⚠️: El electrodoméstico no está enchufado'\u001b[0m\u001b[0;34m)\u001b[0m\u001b[0;34m\u001b[0m\u001b[0;34m\u001b[0m\u001b[0m\n\u001b[0m\u001b[1;32m      9\u001b[0m \u001b[0;34m\u001b[0m\u001b[0m\n\u001b[1;32m     10\u001b[0m     \u001b[0;32mdef\u001b[0m \u001b[0menchufar\u001b[0m\u001b[0;34m(\u001b[0m\u001b[0mself\u001b[0m\u001b[0;34m)\u001b[0m\u001b[0;34m:\u001b[0m\u001b[0;34m\u001b[0m\u001b[0;34m\u001b[0m\u001b[0m\n",
            "\u001b[0;31mException\u001b[0m: Alerta ⚠️: El electrodoméstico no está enchufado"
          ]
        }
      ],
      "execution_count": 21
    },
    {
      "cell_type": "code",
      "source": [
        "# Enchufamos el electrodoméstico\n",
        "jugera_2.enchufar()"
      ],
      "metadata": {
        "tags": [],
        "cell_id": "c22db666b01740409ea10d8c65c3f4f0",
        "source_hash": "d3e1edd9",
        "execution_start": 1648863398900,
        "execution_millis": 3,
        "deepnote_to_be_reexecuted": false,
        "deepnote_cell_type": "code",
        "id": "8eS5go4niK9x"
      },
      "outputs": [],
      "execution_count": 22
    },
    {
      "cell_type": "code",
      "source": [
        "# Esta celda debería levantar ina excepción informandoles que la bandeja no tiene ingredientes.\n",
        "jugera_2.preparar_jugo()"
      ],
      "metadata": {
        "tags": [],
        "cell_id": "b278da54f71e446ab773a9be8e47a921",
        "source_hash": "b81f1f5b",
        "execution_start": 1648863400238,
        "execution_millis": 17,
        "deepnote_to_be_reexecuted": false,
        "deepnote_cell_type": "code",
        "id": "k-GmZkuDiK9y",
        "outputId": "87fce1d7-7f20-4683-cc2c-2a6018758113",
        "colab": {
          "base_uri": "https://localhost:8080/",
          "height": 312
        }
      },
      "outputs": [
        {
          "output_type": "error",
          "ename": "Exception",
          "evalue": "ignored",
          "traceback": [
            "\u001b[0;31m---------------------------------------------------------------------------\u001b[0m",
            "\u001b[0;31mException\u001b[0m                                 Traceback (most recent call last)",
            "\u001b[0;32m<ipython-input-23-50e6459dff43>\u001b[0m in \u001b[0;36m<cell line: 2>\u001b[0;34m()\u001b[0m\n\u001b[1;32m      1\u001b[0m \u001b[0;31m# Esta celda debería levantar ina excepción informandoles que la bandeja no tiene ingredientes.\u001b[0m\u001b[0;34m\u001b[0m\u001b[0;34m\u001b[0m\u001b[0m\n\u001b[0;32m----> 2\u001b[0;31m \u001b[0mjugera_2\u001b[0m\u001b[0;34m.\u001b[0m\u001b[0mpreparar_jugo\u001b[0m\u001b[0;34m(\u001b[0m\u001b[0;34m)\u001b[0m\u001b[0;34m\u001b[0m\u001b[0;34m\u001b[0m\u001b[0m\n\u001b[0m",
            "\u001b[0;32m<ipython-input-19-daf759edd520>\u001b[0m in \u001b[0;36mpreparar_jugo\u001b[0;34m(self)\u001b[0m\n\u001b[1;32m     55\u001b[0m \u001b[0;34m\u001b[0m\u001b[0m\n\u001b[1;32m     56\u001b[0m         \u001b[0;32mif\u001b[0m \u001b[0;32mnot\u001b[0m \u001b[0mself\u001b[0m\u001b[0;34m.\u001b[0m\u001b[0mbandeja\u001b[0m\u001b[0;34m:\u001b[0m\u001b[0;34m\u001b[0m\u001b[0;34m\u001b[0m\u001b[0m\n\u001b[0;32m---> 57\u001b[0;31m           \u001b[0;32mraise\u001b[0m \u001b[0mException\u001b[0m\u001b[0;34m(\u001b[0m\u001b[0;34m'Error ❌: La bandeja no tiene ingredientes.'\u001b[0m\u001b[0;34m)\u001b[0m\u001b[0;34m\u001b[0m\u001b[0;34m\u001b[0m\u001b[0m\n\u001b[0m\u001b[1;32m     58\u001b[0m \u001b[0;34m\u001b[0m\u001b[0m\n\u001b[1;32m     59\u001b[0m         \u001b[0;32mif\u001b[0m \u001b[0mfiltrar_por_pepa\u001b[0m\u001b[0;34m(\u001b[0m\u001b[0mself\u001b[0m\u001b[0;34m.\u001b[0m\u001b[0mbandeja\u001b[0m\u001b[0;34m,\u001b[0m \u001b[0;32mTrue\u001b[0m\u001b[0;34m)\u001b[0m\u001b[0;34m:\u001b[0m\u001b[0;34m\u001b[0m\u001b[0;34m\u001b[0m\u001b[0m\n",
            "\u001b[0;31mException\u001b[0m: Error ❌: La bandeja no tiene ingredientes."
          ]
        }
      ],
      "execution_count": 23
    },
    {
      "cell_type": "code",
      "source": [
        "# Agregamos algunos ingredientes (en este caso, como son más de 3, fallará)\n",
        "jugera_2.bandeja = [naranja, platano, frutilla, limon]"
      ],
      "metadata": {
        "tags": [],
        "cell_id": "3ad3896a485947d99be890cffca26f08",
        "source_hash": "a016a727",
        "execution_start": 1648863402271,
        "execution_millis": 482,
        "deepnote_to_be_reexecuted": false,
        "deepnote_cell_type": "code",
        "id": "1nUSija5iK9y",
        "outputId": "b503dad5-0e2b-4041-8258-bc87995e0ccb",
        "colab": {
          "base_uri": "https://localhost:8080/",
          "height": 312
        }
      },
      "outputs": [
        {
          "output_type": "error",
          "ename": "Exception",
          "evalue": "ignored",
          "traceback": [
            "\u001b[0;31m---------------------------------------------------------------------------\u001b[0m",
            "\u001b[0;31mException\u001b[0m                                 Traceback (most recent call last)",
            "\u001b[0;32m<ipython-input-24-a2a110761309>\u001b[0m in \u001b[0;36m<cell line: 2>\u001b[0;34m()\u001b[0m\n\u001b[1;32m      1\u001b[0m \u001b[0;31m# Agregamos algunos ingredientes (en este caso, como son más de 3, fallará)\u001b[0m\u001b[0;34m\u001b[0m\u001b[0;34m\u001b[0m\u001b[0m\n\u001b[0;32m----> 2\u001b[0;31m \u001b[0mjugera_2\u001b[0m\u001b[0;34m.\u001b[0m\u001b[0mbandeja\u001b[0m \u001b[0;34m=\u001b[0m \u001b[0;34m[\u001b[0m\u001b[0mnaranja\u001b[0m\u001b[0;34m,\u001b[0m \u001b[0mplatano\u001b[0m\u001b[0;34m,\u001b[0m \u001b[0mfrutilla\u001b[0m\u001b[0;34m,\u001b[0m \u001b[0mlimon\u001b[0m\u001b[0;34m]\u001b[0m\u001b[0;34m\u001b[0m\u001b[0;34m\u001b[0m\u001b[0m\n\u001b[0m",
            "\u001b[0;32m<ipython-input-19-daf759edd520>\u001b[0m in \u001b[0;36mbandeja\u001b[0;34m(self, nueva_bandeja)\u001b[0m\n\u001b[1;32m     20\u001b[0m \u001b[0;34m\u001b[0m\u001b[0m\n\u001b[1;32m     21\u001b[0m         \u001b[0;32melif\u001b[0m \u001b[0mlen\u001b[0m\u001b[0;34m(\u001b[0m\u001b[0mnueva_bandeja\u001b[0m\u001b[0;34m)\u001b[0m \u001b[0;34m>\u001b[0m \u001b[0;36m3\u001b[0m\u001b[0;34m:\u001b[0m\u001b[0;34m\u001b[0m\u001b[0;34m\u001b[0m\u001b[0m\n\u001b[0;32m---> 22\u001b[0;31m           \u001b[0;32mraise\u001b[0m \u001b[0mException\u001b[0m\u001b[0;34m(\u001b[0m\u001b[0;34m\"Error ❌: No se pueden agregar más de 3 frutas a la vez\"\u001b[0m\u001b[0;34m)\u001b[0m\u001b[0;34m\u001b[0m\u001b[0;34m\u001b[0m\u001b[0m\n\u001b[0m\u001b[1;32m     23\u001b[0m \u001b[0;34m\u001b[0m\u001b[0m\n\u001b[1;32m     24\u001b[0m         \u001b[0mtipos_de_frutas\u001b[0m \u001b[0;34m=\u001b[0m \u001b[0;34m[\u001b[0m\u001b[0mtype\u001b[0m\u001b[0;34m(\u001b[0m\u001b[0mfruta\u001b[0m\u001b[0;34m)\u001b[0m \u001b[0;32mfor\u001b[0m \u001b[0mfruta\u001b[0m \u001b[0;32min\u001b[0m \u001b[0mnueva_bandeja\u001b[0m\u001b[0;34m]\u001b[0m\u001b[0;34m\u001b[0m\u001b[0;34m\u001b[0m\u001b[0m\n",
            "\u001b[0;31mException\u001b[0m: Error ❌: No se pueden agregar más de 3 frutas a la vez"
          ]
        }
      ],
      "execution_count": 24
    },
    {
      "cell_type": "code",
      "source": [
        "# Agregamos algunos ingredientes \n",
        "# (en este caso debería fallar, ya que estamos entregando un string en el primer lugar)\n",
        "jugera_2.bandeja = [\"naranja\", platano, frutilla]"
      ],
      "metadata": {
        "tags": [],
        "cell_id": "314f0f7e4621417b973ff5202c24e2b0",
        "source_hash": "561a3ff9",
        "execution_start": 1648863404537,
        "execution_millis": 20,
        "deepnote_to_be_reexecuted": false,
        "deepnote_cell_type": "code",
        "id": "_92DMKbHiK9y",
        "outputId": "74c4d3dc-6f5d-43cf-a6be-e103d0775047",
        "colab": {
          "base_uri": "https://localhost:8080/",
          "height": 329
        }
      },
      "outputs": [
        {
          "output_type": "error",
          "ename": "Exception",
          "evalue": "ignored",
          "traceback": [
            "\u001b[0;31m---------------------------------------------------------------------------\u001b[0m",
            "\u001b[0;31mException\u001b[0m                                 Traceback (most recent call last)",
            "\u001b[0;32m<ipython-input-25-7b6a7af0ac43>\u001b[0m in \u001b[0;36m<cell line: 3>\u001b[0;34m()\u001b[0m\n\u001b[1;32m      1\u001b[0m \u001b[0;31m# Agregamos algunos ingredientes\u001b[0m\u001b[0;34m\u001b[0m\u001b[0;34m\u001b[0m\u001b[0m\n\u001b[1;32m      2\u001b[0m \u001b[0;31m# (en este caso debería fallar, ya que estamos entregando un string en el primer lugar)\u001b[0m\u001b[0;34m\u001b[0m\u001b[0;34m\u001b[0m\u001b[0m\n\u001b[0;32m----> 3\u001b[0;31m \u001b[0mjugera_2\u001b[0m\u001b[0;34m.\u001b[0m\u001b[0mbandeja\u001b[0m \u001b[0;34m=\u001b[0m \u001b[0;34m[\u001b[0m\u001b[0;34m\"naranja\"\u001b[0m\u001b[0;34m,\u001b[0m \u001b[0mplatano\u001b[0m\u001b[0;34m,\u001b[0m \u001b[0mfrutilla\u001b[0m\u001b[0;34m]\u001b[0m\u001b[0;34m\u001b[0m\u001b[0;34m\u001b[0m\u001b[0m\n\u001b[0m",
            "\u001b[0;32m<ipython-input-19-daf759edd520>\u001b[0m in \u001b[0;36mbandeja\u001b[0;34m(self, nueva_bandeja)\u001b[0m\n\u001b[1;32m     25\u001b[0m         \u001b[0;32mfor\u001b[0m \u001b[0mfruta\u001b[0m \u001b[0;32min\u001b[0m \u001b[0mnueva_bandeja\u001b[0m\u001b[0;34m:\u001b[0m\u001b[0;34m\u001b[0m\u001b[0;34m\u001b[0m\u001b[0m\n\u001b[1;32m     26\u001b[0m           \u001b[0;32mif\u001b[0m \u001b[0;32mnot\u001b[0m \u001b[0misinstance\u001b[0m\u001b[0;34m(\u001b[0m\u001b[0mfruta\u001b[0m\u001b[0;34m,\u001b[0m \u001b[0mdict\u001b[0m\u001b[0;34m)\u001b[0m\u001b[0;34m:\u001b[0m\u001b[0;34m\u001b[0m\u001b[0;34m\u001b[0m\u001b[0m\n\u001b[0;32m---> 27\u001b[0;31m             \u001b[0;32mraise\u001b[0m \u001b[0mException\u001b[0m\u001b[0;34m(\u001b[0m\u001b[0;34m\"Error ❌: Hay una fruta que no es un diccionario\"\u001b[0m\u001b[0;34m)\u001b[0m\u001b[0;34m\u001b[0m\u001b[0;34m\u001b[0m\u001b[0m\n\u001b[0m\u001b[1;32m     28\u001b[0m \u001b[0;34m\u001b[0m\u001b[0m\n\u001b[1;32m     29\u001b[0m           \u001b[0;32melif\u001b[0m \u001b[0mfruta\u001b[0m\u001b[0;34m.\u001b[0m\u001b[0mkeys\u001b[0m\u001b[0;34m(\u001b[0m\u001b[0;34m)\u001b[0m \u001b[0;34m!=\u001b[0m \u001b[0mllaves\u001b[0m\u001b[0;34m.\u001b[0m\u001b[0mkeys\u001b[0m\u001b[0;34m(\u001b[0m\u001b[0;34m)\u001b[0m\u001b[0;34m:\u001b[0m\u001b[0;34m\u001b[0m\u001b[0;34m\u001b[0m\u001b[0m\n",
            "\u001b[0;31mException\u001b[0m: Error ❌: Hay una fruta que no es un diccionario"
          ]
        }
      ],
      "execution_count": 25
    },
    {
      "cell_type": "code",
      "source": [
        "# Agregamos algunos ingredientes \n",
        "# (en este caso debería fallar, ya que arándando tiene solo la llave nombre)\n",
        "jugera_2.bandeja = [{'nombre': 'arándano'}, platano, frutilla]"
      ],
      "metadata": {
        "tags": [],
        "cell_id": "976577e8b66343e38704f8597e85f175",
        "source_hash": "ecc3586",
        "execution_start": 1648863408300,
        "execution_millis": 2,
        "deepnote_to_be_reexecuted": false,
        "deepnote_cell_type": "code",
        "id": "c1gUL1siiK9y",
        "outputId": "ed24ce74-4236-4bba-8f17-2649281f2bae",
        "colab": {
          "base_uri": "https://localhost:8080/",
          "height": 329
        }
      },
      "outputs": [
        {
          "output_type": "error",
          "ename": "Exception",
          "evalue": "ignored",
          "traceback": [
            "\u001b[0;31m---------------------------------------------------------------------------\u001b[0m",
            "\u001b[0;31mException\u001b[0m                                 Traceback (most recent call last)",
            "\u001b[0;32m<ipython-input-26-4b28cdf8df59>\u001b[0m in \u001b[0;36m<cell line: 3>\u001b[0;34m()\u001b[0m\n\u001b[1;32m      1\u001b[0m \u001b[0;31m# Agregamos algunos ingredientes\u001b[0m\u001b[0;34m\u001b[0m\u001b[0;34m\u001b[0m\u001b[0m\n\u001b[1;32m      2\u001b[0m \u001b[0;31m# (en este caso debería fallar, ya que arándando tiene solo la llave nombre)\u001b[0m\u001b[0;34m\u001b[0m\u001b[0;34m\u001b[0m\u001b[0m\n\u001b[0;32m----> 3\u001b[0;31m \u001b[0mjugera_2\u001b[0m\u001b[0;34m.\u001b[0m\u001b[0mbandeja\u001b[0m \u001b[0;34m=\u001b[0m \u001b[0;34m[\u001b[0m\u001b[0;34m{\u001b[0m\u001b[0;34m'nombre'\u001b[0m\u001b[0;34m:\u001b[0m \u001b[0;34m'arándano'\u001b[0m\u001b[0;34m}\u001b[0m\u001b[0;34m,\u001b[0m \u001b[0mplatano\u001b[0m\u001b[0;34m,\u001b[0m \u001b[0mfrutilla\u001b[0m\u001b[0;34m]\u001b[0m\u001b[0;34m\u001b[0m\u001b[0;34m\u001b[0m\u001b[0m\n\u001b[0m",
            "\u001b[0;32m<ipython-input-19-daf759edd520>\u001b[0m in \u001b[0;36mbandeja\u001b[0;34m(self, nueva_bandeja)\u001b[0m\n\u001b[1;32m     28\u001b[0m \u001b[0;34m\u001b[0m\u001b[0m\n\u001b[1;32m     29\u001b[0m           \u001b[0;32melif\u001b[0m \u001b[0mfruta\u001b[0m\u001b[0;34m.\u001b[0m\u001b[0mkeys\u001b[0m\u001b[0;34m(\u001b[0m\u001b[0;34m)\u001b[0m \u001b[0;34m!=\u001b[0m \u001b[0mllaves\u001b[0m\u001b[0;34m.\u001b[0m\u001b[0mkeys\u001b[0m\u001b[0;34m(\u001b[0m\u001b[0;34m)\u001b[0m\u001b[0;34m:\u001b[0m\u001b[0;34m\u001b[0m\u001b[0;34m\u001b[0m\u001b[0m\n\u001b[0;32m---> 30\u001b[0;31m             \u001b[0;32mraise\u001b[0m \u001b[0mException\u001b[0m\u001b[0;34m(\u001b[0m\u001b[0;34m\"Error ❌: Un elemento no tiene todas las propiedades de una fruta\"\u001b[0m\u001b[0;34m)\u001b[0m\u001b[0;34m\u001b[0m\u001b[0;34m\u001b[0m\u001b[0m\n\u001b[0m\u001b[1;32m     31\u001b[0m \u001b[0;34m\u001b[0m\u001b[0m\n\u001b[1;32m     32\u001b[0m         \u001b[0mself\u001b[0m\u001b[0;34m.\u001b[0m\u001b[0m_bandeja\u001b[0m \u001b[0;34m=\u001b[0m \u001b[0mnueva_bandeja\u001b[0m\u001b[0;34m\u001b[0m\u001b[0;34m\u001b[0m\u001b[0m\n",
            "\u001b[0;31mException\u001b[0m: Error ❌: Un elemento no tiene todas las propiedades de una fruta"
          ]
        }
      ],
      "execution_count": 26
    },
    {
      "cell_type": "code",
      "source": [
        "# Agregamos algunos ingredientes (en este caso, como son 3, debería funcionar)\n",
        "jugera_2.bandeja = [naranja, platano, frutilla]\n",
        "\n",
        "# Y los listamos (debería imprimir: 'Ingredientes en la bandeja: naranja, plátano')\n",
        "jugera_2.listar_ingredientes()"
      ],
      "metadata": {
        "tags": [],
        "cell_id": "4403aaea7e044305bb5a8488d71e42f9",
        "source_hash": "b2bcbf",
        "execution_start": 1648863409767,
        "execution_millis": 6,
        "deepnote_to_be_reexecuted": false,
        "deepnote_cell_type": "code",
        "id": "fA90VVjLiK9y",
        "outputId": "f849f0c1-cf1f-4280-b108-2158ba52c82e",
        "colab": {
          "base_uri": "https://localhost:8080/"
        }
      },
      "outputs": [
        {
          "output_type": "stream",
          "name": "stdout",
          "text": [
            "Ingredientes en la bandeja: naranja, plátano, frutilla.\n"
          ]
        }
      ],
      "execution_count": 27
    },
    {
      "cell_type": "code",
      "source": [
        "# Una vez preparado el jugo, imprima el contenido del jugo y si una alerta, \n",
        "# en el caso que el jugo tenga pepas.\n",
        "jugera_2.preparar_jugo()"
      ],
      "metadata": {
        "tags": [],
        "cell_id": "4b88a24abdc44fcfb5ea294a852bf921",
        "source_hash": "a9d685c1",
        "execution_start": 1648863411760,
        "execution_millis": 5,
        "deepnote_to_be_reexecuted": false,
        "deepnote_cell_type": "code",
        "id": "rx_ypi9CiK9y",
        "outputId": "8703447d-2fb6-4bf4-94a2-1cedd83659f3",
        "colab": {
          "base_uri": "https://localhost:8080/",
          "height": 53
        }
      },
      "outputs": [
        {
          "output_type": "stream",
          "name": "stdout",
          "text": [
            "Alerta ⚠️: El jugo puede contener restos de pepas.\n"
          ]
        },
        {
          "output_type": "execute_result",
          "data": {
            "text/plain": [
              "'Jugo de naranja, plátano, frutilla listo. 🏖️🥤 Que lo disfrutes!!! 🥤🏖️.'"
            ],
            "application/vnd.google.colaboratory.intrinsic+json": {
              "type": "string"
            }
          },
          "metadata": {},
          "execution_count": 28
        }
      ],
      "execution_count": 28
    },
    {
      "cell_type": "code",
      "source": [
        "# Una vez preparado el jugo, debería vaciarse la bandeja (imprimir Bandeja vacía)\n",
        "jugera_2.listar_ingredientes()"
      ],
      "metadata": {
        "cell_id": "5d8468e21edd4cecab85b9c04df71094",
        "deepnote_cell_type": "code",
        "id": "VDN7p7iSiK9y",
        "colab": {
          "base_uri": "https://localhost:8080/"
        },
        "outputId": "b792f836-8eb5-47fd-8921-1f8227d86671"
      },
      "outputs": [
        {
          "output_type": "stream",
          "name": "stdout",
          "text": [
            "Bandeja vacía\n"
          ]
        }
      ],
      "execution_count": 29
    },
    {
      "cell_type": "markdown",
      "source": [
        "<a style='text-decoration:none;line-height:16px;display:flex;color:#5B5B62;padding:10px;justify-content:end;' href='https://deepnote.com?utm_source=created-in-deepnote-cell&projectId=87110296-876e-426f-b91d-aaf681223468' target=\"_blank\">\n",
        "<img alt='Created in deepnote.com' style='display:inline;max-height:16px;margin:0px;margin-right:7.5px;' src='data:image/svg+xml;base64,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' > </img>\n",
        "Created in <span style='font-weight:600;margin-left:4px;'>Deepnote</span></a>"
      ],
      "metadata": {
        "created_in_deepnote_cell": true,
        "deepnote_cell_type": "markdown",
        "id": "gvGPn0v5iK9y"
      }
    }
  ],
  "nbformat": 4,
  "nbformat_minor": 0,
  "metadata": {
    "colab": {
      "provenance": []
    },
    "deepnote": {},
    "kernelspec": {
      "name": "python3",
      "language": "python",
      "display_name": "Python 3"
    },
    "language_info": {
      "name": "python",
      "version": "3.8.3",
      "mimetype": "text/x-python",
      "file_extension": ".py",
      "pygments_lexer": "ipython3",
      "codemirror_mode": {
        "name": "ipython",
        "version": 3
      },
      "nbconvert_exporter": "python"
    },
    "deepnote_notebook_id": "9ab947a9e176401fb56de9443c666a4a",
    "deepnote_execution_queue": []
  }
}